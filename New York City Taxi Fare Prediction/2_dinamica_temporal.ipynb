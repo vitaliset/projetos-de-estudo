{
  "nbformat": 4,
  "nbformat_minor": 0,
  "metadata": {
    "colab": {
      "name": "2_datalab_dinamica_temporal.ipynb",
      "provenance": [],
      "collapsed_sections": [],
      "machine_shape": "hm"
    },
    "kernelspec": {
      "name": "python3",
      "display_name": "Python 3"
    },
    "language_info": {
      "name": "python"
    }
  },
  "cells": [
    {
      "cell_type": "markdown",
      "metadata": {
        "id": "vVLamVP9FYV9"
      },
      "source": [
        "# 2 - Dataset Shift"
      ]
    },
    {
      "cell_type": "markdown",
      "metadata": {
        "id": "RhRhR-dzE1bo"
      },
      "source": [
        "## 2.1 - Baixando e importando dados"
      ]
    },
    {
      "cell_type": "code",
      "metadata": {
        "colab": {
          "base_uri": "https://localhost:8080/"
        },
        "id": "HSO-oKPkmsng",
        "outputId": "007eeeb4-210c-47ef-d899-0fed8f373847"
      },
      "source": [
        "# baixando o dataset para utilizar no ambiente Google Colab\n",
        "!gdown --id 1iwTU12iQhT8kPPMcG9z06OvL1IJdINFv"
      ],
      "execution_count": null,
      "outputs": [
        {
          "output_type": "stream",
          "text": [
            "Downloading...\n",
            "From: https://drive.google.com/uc?id=1iwTU12iQhT8kPPMcG9z06OvL1IJdINFv\n",
            "To: /content/train.csv.zip\n",
            "1.67GB [00:13, 121MB/s]\n"
          ],
          "name": "stdout"
        }
      ]
    },
    {
      "cell_type": "code",
      "metadata": {
        "id": "FlwNLKfhmtKA"
      },
      "source": [
        "import numpy as np\n",
        "import matplotlib.pyplot as plt\n",
        "import pandas as pd\n",
        "\n",
        "from tqdm import tqdm\n",
        "tqdm.pandas()\n",
        "\n",
        "from sklearn.model_selection import train_test_split"
      ],
      "execution_count": null,
      "outputs": []
    },
    {
      "cell_type": "code",
      "metadata": {
        "id": "24m8bv-smuYG"
      },
      "source": [
        "# importando os dados\n",
        "df = pd.read_csv('train.csv.zip', compression='zip', nrows=5000000,\n",
        "                   error_bad_lines=False).drop(columns='key')"
      ],
      "execution_count": null,
      "outputs": []
    },
    {
      "cell_type": "markdown",
      "metadata": {
        "id": "8qBd1ntDFTWF"
      },
      "source": [
        "## 2.2 Adicionando variável temporal"
      ]
    },
    {
      "cell_type": "code",
      "metadata": {
        "colab": {
          "base_uri": "https://localhost:8080/"
        },
        "id": "fQQWebM0mu5T",
        "outputId": "dc17a03d-b9ef-4af0-beeb-b20eb7f6156e"
      },
      "source": [
        "%%time\n",
        "\n",
        "print(df['pickup_datetime'].isna().sum())\n",
        "\n",
        "df['pickup_datetime'] = df.progress_apply(lambda x: pd.to_datetime(x.pickup_datetime), axis=1)\n",
        "\n",
        "df['weekday'] = df.progress_apply(lambda x: x.pickup_datetime.day, axis=1)\n",
        "df['year'] = df.progress_apply(lambda x: x.pickup_datetime.year, axis=1)\n",
        "df['month'] = df.progress_apply(lambda x: x.pickup_datetime.month, axis=1)\n",
        "df['time'] = df.progress_apply(lambda x: x.pickup_datetime.hour*60 + x.pickup_datetime.minute, axis=1)\n",
        "df['weekofyear'] = df.progress_apply(lambda x: x.pickup_datetime.weekofyear, axis=1)"
      ],
      "execution_count": null,
      "outputs": [
        {
          "output_type": "stream",
          "text": [
            "0\n"
          ],
          "name": "stdout"
        },
        {
          "output_type": "stream",
          "text": [
            "100%|██████████| 3000000/3000000 [17:36<00:00, 2838.98it/s]\n",
            "100%|██████████| 3000000/3000000 [00:48<00:00, 61741.84it/s]\n",
            "100%|██████████| 3000000/3000000 [00:49<00:00, 60744.52it/s]\n",
            "100%|██████████| 3000000/3000000 [00:49<00:00, 60209.34it/s]\n",
            "100%|██████████| 3000000/3000000 [01:11<00:00, 41987.09it/s]\n",
            "100%|██████████| 3000000/3000000 [00:51<00:00, 58811.18it/s]\n"
          ],
          "name": "stderr"
        },
        {
          "output_type": "stream",
          "text": [
            "CPU times: user 21min 59s, sys: 16.7 s, total: 22min 16s\n",
            "Wall time: 22min 10s\n"
          ],
          "name": "stdout"
        }
      ]
    },
    {
      "cell_type": "code",
      "metadata": {
        "id": "Woq9g9XVmvDd"
      },
      "source": [
        "df_train, df_test, _, _ = train_test_split(df, df.index, test_size=0.2, random_state=42)"
      ],
      "execution_count": null,
      "outputs": []
    },
    {
      "cell_type": "markdown",
      "metadata": {
        "id": "gs0wvYjJWyTW"
      },
      "source": [
        "- rodando um histograma simples das variáveis temporais não temos grandes insights, as variáveis parecem uniformemente distribuídas na nossa base.\n",
        "\n",
        "- apenas ficamos com o alerta de que não temos 2015 completo"
      ]
    },
    {
      "cell_type": "code",
      "metadata": {
        "colab": {
          "base_uri": "https://localhost:8080/"
        },
        "id": "lB9a566mtp10",
        "outputId": "fa81ed57-6d9c-4ef4-8564-b41bea8ca49e"
      },
      "source": [
        "df['pickup_datetime'].min(), df['pickup_datetime'].max()"
      ],
      "execution_count": null,
      "outputs": [
        {
          "output_type": "execute_result",
          "data": {
            "text/plain": [
              "(Timestamp('2009-01-01 00:00:46+0000', tz='UTC'),\n",
              " Timestamp('2015-06-30 23:59:03+0000', tz='UTC'))"
            ]
          },
          "metadata": {},
          "execution_count": 6
        }
      ]
    },
    {
      "cell_type": "markdown",
      "metadata": {
        "id": "Qj272Cx-W8Iw"
      },
      "source": [
        "- uma única interessante para olhar é a variável time (tempo em minutos desde meia noite). aqui vemos um padrão com maior uso do taxi em horários específicos do dia, oque pode influenciar no preço (dependendo se temos bandeiras diferentes)."
      ]
    },
    {
      "cell_type": "code",
      "metadata": {
        "colab": {
          "base_uri": "https://localhost:8080/",
          "height": 265
        },
        "id": "eLibNfWhtZE5",
        "outputId": "efb08cb5-4d59-409c-f466-799cd003014d"
      },
      "source": [
        "plt.hist(df_train['time'], bins=30)\n",
        "plt.show()"
      ],
      "execution_count": null,
      "outputs": [
        {
          "output_type": "display_data",
          "data": {
            "image/png": "[encoded data removed]",
            "text/plain": [
              "<Figure size 432x288 with 1 Axes>"
            ]
          },
          "metadata": {
            "needs_background": "light"
          }
        }
      ]
    },
    {
      "cell_type": "markdown",
      "metadata": {
        "id": "pA3s7RAFXR3b"
      },
      "source": [
        "## 2.3 Análise"
      ]
    },
    {
      "cell_type": "markdown",
      "metadata": {
        "id": "6QGi5496vnTO"
      },
      "source": [
        "Para analisar mudanças temporais vamos criar um modelo que, dada variáveis que queremos estudar o comportamento, tenta prever de qual ano aquele exemplo é. Se esse modelo tem uma perfomance alta, podemos concluir que existe uma mudança temporal significativa nas variáveis observadas.\n",
        "\n",
        "Vamos utilizar uma métrica de avaliação Ranked Probability Score (com uma ótima explicação no Desafio 2021 do Mercado Livre https://ml-challenge.mercadolibre.com/rules). Quanto menor, melhor o nosso modelo faz a tarefa de previsão."
      ]
    },
    {
      "cell_type": "code",
      "metadata": {
        "id": "KR_fDDOMltXX"
      },
      "source": [
        "from sklearn.ensemble import RandomForestClassifier\n",
        "from sklearn.metrics import make_scorer"
      ],
      "execution_count": null,
      "outputs": []
    },
    {
      "cell_type": "code",
      "metadata": {
        "id": "UZuDYxW3A_mD"
      },
      "source": [
        "df_aux_train = df_train.head(10000).reset_index()\n",
        "df_aux_test = df_train.tail(10000).reset_index()\n",
        "\n",
        "var_cols = ['pickup_longitude', 'pickup_latitude',\n",
        "       'dropoff_longitude', 'dropoff_latitude', 'passenger_count']\n",
        "\n",
        "time_cols = ['weekday', 'time']\n",
        "\n",
        "def rps_loss(y_true, y_pred):\n",
        "    return ((y_true.cumsum(axis=1) - y_pred.cumsum(axis=1)).sum(axis=1)**2).mean()"
      ],
      "execution_count": null,
      "outputs": []
    },
    {
      "cell_type": "code",
      "metadata": {
        "colab": {
          "base_uri": "https://localhost:8080/"
        },
        "id": "rCMLa-_4AyRy",
        "outputId": "adce1e5e-d604-450d-f34f-9b01c5aeaebb"
      },
      "source": [
        "rps_loss(pd.get_dummies(df_aux_test['year']), np.ones((10000,7))/7)"
      ],
      "execution_count": null,
      "outputs": [
        {
          "output_type": "execute_result",
          "data": {
            "text/plain": [
              "3.5956"
            ]
          },
          "metadata": {},
          "execution_count": 10
        }
      ]
    },
    {
      "cell_type": "markdown",
      "metadata": {
        "id": "GtFAohnCwj63"
      },
      "source": [
        "Primeiro, vamos analisar o comportamento temporal das variáveis explicativas."
      ]
    },
    {
      "cell_type": "code",
      "metadata": {
        "id": "t5sfy4FbzT9V"
      },
      "source": [
        "X = df_aux_train[var_cols+time_cols].fillna(0)\n",
        "year = df_aux_train['year']\n",
        "\n",
        "rfc_explicativas = RandomForestClassifier().fit(X, year)"
      ],
      "execution_count": null,
      "outputs": []
    },
    {
      "cell_type": "code",
      "metadata": {
        "colab": {
          "base_uri": "https://localhost:8080/",
          "height": 345
        },
        "id": "Bq2WYQui5EY_",
        "outputId": "3ac179ce-8fbb-4f25-c4c5-8fa84240a305"
      },
      "source": [
        "if (rfc_explicativas.classes_ == [2009, 2010, 2011, 2012, 2013, 2014, 2015]).all():\n",
        "  print(rps_loss(pd.get_dummies(df_aux_test['year']), rfc_explicativas.predict_proba(df_aux_test[var_cols+time_cols].fillna(0))))\n",
        "else:\n",
        "  print(\"O classificador não está retornando ordenado, verificar.\")\n",
        "\n",
        "(pd.DataFrame(rfc_explicativas.feature_importances_, \n",
        "              index=X.columns, columns=['feature_importances'])\n",
        ".sort_values(by='feature_importances', ascending=False)\n",
        ")"
      ],
      "execution_count": null,
      "outputs": [
        {
          "output_type": "stream",
          "text": [
            "3.435726220000015\n"
          ],
          "name": "stdout"
        },
        {
          "output_type": "execute_result",
          "data": {
            "text/html": [
              "<div>\n",
              "<style scoped>\n",
              "    .dataframe tbody tr th:only-of-type {\n",
              "        vertical-align: middle;\n",
              "    }\n",
              "\n",
              "    .dataframe tbody tr th {\n",
              "        vertical-align: top;\n",
              "    }\n",
              "\n",
              "    .dataframe thead th {\n",
              "        text-align: right;\n",
              "    }\n",
              "</style>\n",
              "<table border=\"1\" class=\"dataframe\">\n",
              "  <thead>\n",
              "    <tr style=\"text-align: right;\">\n",
              "      <th></th>\n",
              "      <th>feature_importances</th>\n",
              "    </tr>\n",
              "  </thead>\n",
              "  <tbody>\n",
              "    <tr>\n",
              "      <th>time</th>\n",
              "      <td>0.145630</td>\n",
              "    </tr>\n",
              "    <tr>\n",
              "      <th>pickup_latitude</th>\n",
              "      <td>0.140962</td>\n",
              "    </tr>\n",
              "    <tr>\n",
              "      <th>dropoff_latitude</th>\n",
              "      <td>0.140228</td>\n",
              "    </tr>\n",
              "    <tr>\n",
              "      <th>dropoff_longitude</th>\n",
              "      <td>0.140209</td>\n",
              "    </tr>\n",
              "    <tr>\n",
              "      <th>pickup_longitude</th>\n",
              "      <td>0.138913</td>\n",
              "    </tr>\n",
              "    <tr>\n",
              "      <th>weekday</th>\n",
              "      <td>0.115458</td>\n",
              "    </tr>\n",
              "    <tr>\n",
              "      <th>weekofyear</th>\n",
              "      <td>0.094555</td>\n",
              "    </tr>\n",
              "    <tr>\n",
              "      <th>month</th>\n",
              "      <td>0.044492</td>\n",
              "    </tr>\n",
              "    <tr>\n",
              "      <th>passenger_count</th>\n",
              "      <td>0.039554</td>\n",
              "    </tr>\n",
              "  </tbody>\n",
              "</table>\n",
              "</div>"
            ],
            "text/plain": [
              "                   feature_importances\n",
              "time                          0.145630\n",
              "pickup_latitude               0.140962\n",
              "dropoff_latitude              0.140228\n",
              "dropoff_longitude             0.140209\n",
              "pickup_longitude              0.138913\n",
              "weekday                       0.115458\n",
              "weekofyear                    0.094555\n",
              "month                         0.044492\n",
              "passenger_count               0.039554"
            ]
          },
          "metadata": {},
          "execution_count": 12
        }
      ]
    },
    {
      "cell_type": "markdown",
      "metadata": {
        "id": "cxo1B1leBWw0"
      },
      "source": [
        "Agora, vamos fazer a mesma análise olhando a variável objetivo."
      ]
    },
    {
      "cell_type": "code",
      "metadata": {
        "id": "V3U6nv3tBVNL"
      },
      "source": [
        "X = df_aux_train[['fare_amount']]\n",
        "year = df_aux_train['year']\n",
        "\n",
        "rfc_target = RandomForestClassifier(max_features=None).fit(X, year)"
      ],
      "execution_count": null,
      "outputs": []
    },
    {
      "cell_type": "code",
      "metadata": {
        "colab": {
          "base_uri": "https://localhost:8080/"
        },
        "id": "FMldBvng8v32",
        "outputId": "615f5e39-937b-4644-e1eb-27b4c80f5b1f"
      },
      "source": [
        "if (rfc_target.classes_ == [2009, 2010, 2011, 2012, 2013, 2014, 2015]).all():\n",
        "  print(rps_loss(pd.get_dummies(df_aux_test['year']), rfc_target.predict_proba(df_aux_test[['fare_amount']])))\n",
        "else:\n",
        "  print(\"O classificador não está retornando ordenado, verificar.\")"
      ],
      "execution_count": null,
      "outputs": [
        {
          "output_type": "stream",
          "text": [
            "1.7231247276339956\n"
          ],
          "name": "stdout"
        }
      ]
    },
    {
      "cell_type": "markdown",
      "metadata": {
        "id": "jVexX57TEA5p"
      },
      "source": [
        "Olhando com mais detalhe para a relação temporal da target."
      ]
    },
    {
      "cell_type": "code",
      "metadata": {
        "colab": {
          "base_uri": "https://localhost:8080/",
          "height": 265
        },
        "id": "J9NhSk_jGsNg",
        "outputId": "7f1ae45a-42eb-403c-c048-6ed459984d81"
      },
      "source": [
        "x = df_train.groupby(\"year\").fare_amount.median().sort_index()\n",
        "plt.scatter(x.index, x.values, s=10)\n",
        "plt.show()"
      ],
      "execution_count": null,
      "outputs": [
        {
          "output_type": "display_data",
          "data": {
            "image/png": "[encoded data removed]",
            "text/plain": [
              "<Figure size 432x288 with 1 Axes>"
            ]
          },
          "metadata": {
            "needs_background": "light"
          }
        }
      ]
    },
    {
      "cell_type": "markdown",
      "metadata": {
        "id": "R20uytNYG9Rk"
      },
      "source": [
        "Olhando mais no detalhe por ano, vemos que em 2012 temos uma quebra do padrão. Isso nos motiva a ver no mais granular de ano-mês."
      ]
    },
    {
      "cell_type": "code",
      "metadata": {
        "colab": {
          "base_uri": "https://localhost:8080/"
        },
        "id": "09gVJ9jLE8nT",
        "outputId": "b0ed43bc-852f-4164-d616-878e5b7dfcb0"
      },
      "source": [
        "df_train['anomes'] = df_train.apply(lambda x: int(str(x.year)+str(x.month).zfill(2)), axis=1)"
      ],
      "execution_count": null,
      "outputs": [
        {
          "output_type": "stream",
          "text": [
            "/usr/local/lib/python3.7/dist-packages/ipykernel_launcher.py:1: SettingWithCopyWarning: \n",
            "A value is trying to be set on a copy of a slice from a DataFrame.\n",
            "Try using .loc[row_indexer,col_indexer] = value instead\n",
            "\n",
            "See the caveats in the documentation: https://pandas.pydata.org/pandas-docs/stable/user_guide/indexing.html#returning-a-view-versus-a-copy\n",
            "  \"\"\"Entry point for launching an IPython kernel.\n"
          ],
          "name": "stderr"
        }
      ]
    },
    {
      "cell_type": "code",
      "metadata": {
        "colab": {
          "base_uri": "https://localhost:8080/",
          "height": 297
        },
        "id": "OHUK_QTaD_tL",
        "outputId": "a7b8cd54-2f61-4322-a0fe-3b7753d57cc5"
      },
      "source": [
        "x = df_train.groupby(\"anomes\").fare_amount.median().sort_index()\n",
        "plt.scatter(range(0, len(x)), x.values, s=4)\n",
        "plt.xticks(range(0,78,5), x.reset_index().iloc[range(0,78,5)].anomes, rotation=90)\n",
        "plt.vlines(44, 6, 11, alpha = 0.5)\n",
        "# print(x.reset_index().query(\"anomes==201209\"))\n",
        "plt.ylim(6, 11)\n",
        "plt.show()"
      ],
      "execution_count": null,
      "outputs": [
        {
          "output_type": "display_data",
          "data": {
            "image/png": "[encoded data removed]",
            "text/plain": [
              "<Figure size 432x288 with 1 Axes>"
            ]
          },
          "metadata": {
            "needs_background": "light"
          }
        }
      ]
    },
    {
      "cell_type": "markdown",
      "metadata": {
        "id": "c2ffPuhFIp5J"
      },
      "source": [
        "Observando esses dois padrões podemos hipotetizar sobre sua motivação. Uma breve pesquisa no google já nos mostra o que aconteceu: em setembro de 2012, foi combinado um aumento no preço dos taxis. https://www.nytimes.com/2012/09/04/nyregion/new-york-taxis-to-start-charging-increased-rates.html\n",
        "\n",
        "Para nossas análises, com a esperança de que os dados do futuro mantenham a distribuição das safras mais recentes de dados, vamos ver se dentro desse segundo padrão, os dados de anos diferentes são comparáveis. Utilizando a mesma abordagem temos:"
      ]
    },
    {
      "cell_type": "code",
      "metadata": {
        "id": "5rLGKOp7D7tn"
      },
      "source": [
        "df_atual = df_train.query(\"anomes>=201209\")\n",
        "\n",
        "df_atual_train = df_atual.head(10000).reset_index()\n",
        "df_atual_test = df_atual.tail(10000).reset_index()"
      ],
      "execution_count": null,
      "outputs": []
    },
    {
      "cell_type": "code",
      "metadata": {
        "id": "E_uy2h0EsTf2"
      },
      "source": [
        "X = df_atual_train[['fare_amount']]\n",
        "year = df_atual_train['year']\n",
        "\n",
        "rfc_target = RandomForestClassifier(max_features=None).fit(X, year)"
      ],
      "execution_count": null,
      "outputs": []
    },
    {
      "cell_type": "code",
      "metadata": {
        "colab": {
          "base_uri": "https://localhost:8080/"
        },
        "id": "0L96PbmvHqpJ",
        "outputId": "428fc994-7317-48c4-b795-bfe461982500"
      },
      "source": [
        "if (rfc_target.classes_ == [2012, 2013, 2014, 2015]).all():\n",
        "  print(rps_loss(pd.get_dummies(df_atual_test['year']), rfc_target.predict_proba(df_atual_test[['fare_amount']])))\n",
        "else:\n",
        "  print(\"O classificador não está retornando ordenado, verificar.\")"
      ],
      "execution_count": null,
      "outputs": [
        {
          "output_type": "stream",
          "text": [
            "0.810471029256531\n"
          ],
          "name": "stdout"
        }
      ]
    },
    {
      "cell_type": "markdown",
      "metadata": {
        "id": "32CloPT7JR2T"
      },
      "source": [
        "O valor da métrica parece baixo, mas é porque mudamos o número de anos possíveis para apenas 4. Comparando com o chute uniforme, vemos que agora realmente perdemos o problema temporal escolhendo os dados apenas a partir da data estudada."
      ]
    },
    {
      "cell_type": "code",
      "metadata": {
        "colab": {
          "base_uri": "https://localhost:8080/"
        },
        "id": "cvtqP0F7IEQt",
        "outputId": "4838f9df-20aa-4abf-aba3-23fb2d7a5b73"
      },
      "source": [
        "rps_loss(pd.get_dummies(df_atual_test['year']), np.ones((10000,4))/4)"
      ],
      "execution_count": null,
      "outputs": [
        {
          "output_type": "execute_result",
          "data": {
            "text/plain": [
              "0.8234"
            ]
          },
          "metadata": {},
          "execution_count": 21
        }
      ]
    },
    {
      "cell_type": "markdown",
      "metadata": {
        "id": "tgWfiHvxKoSY"
      },
      "source": [
        "No proxímo notebook vou fazer o pré-processamento das nossas variáveis."
      ]
    }
  ]
}