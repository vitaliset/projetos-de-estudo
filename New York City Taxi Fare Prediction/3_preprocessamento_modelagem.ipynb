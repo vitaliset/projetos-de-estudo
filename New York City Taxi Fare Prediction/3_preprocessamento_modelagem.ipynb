{
  "nbformat": 4,
  "nbformat_minor": 0,
  "metadata": {
    "colab": {
      "name": "3_datalab_preprocessamento_modelagem.ipynb",
      "provenance": [],
      "collapsed_sections": [],
      "machine_shape": "hm"
    },
    "kernelspec": {
      "name": "python3",
      "display_name": "Python 3"
    },
    "language_info": {
      "name": "python"
    }
  },
  "cells": [
    {
      "cell_type": "markdown",
      "metadata": {
        "id": "p1gqIqOFX8Mn"
      },
      "source": [
        "# 3 - Pré-processamento"
      ]
    },
    {
      "cell_type": "markdown",
      "metadata": {
        "id": "pIETI_IDYA_c"
      },
      "source": [
        "## 3.1 - Baixando e importando dados"
      ]
    },
    {
      "cell_type": "code",
      "metadata": {
        "colab": {
          "base_uri": "https://localhost:8080/"
        },
        "id": "WNe-Tl4pLNjj",
        "outputId": "f0c4d292-c5e8-45fe-8e24-f2e150eb9233"
      },
      "source": [
        "!gdown --id 1iwTU12iQhT8kPPMcG9z06OvL1IJdINFv"
      ],
      "execution_count": 1,
      "outputs": [
        {
          "output_type": "stream",
          "text": [
            "Downloading...\n",
            "From: https://drive.google.com/uc?id=1iwTU12iQhT8kPPMcG9z06OvL1IJdINFv\n",
            "To: /content/train.csv.zip\n",
            "1.67GB [00:10, 153MB/s]\n"
          ],
          "name": "stdout"
        }
      ]
    },
    {
      "cell_type": "code",
      "metadata": {
        "id": "z-dSkTEMLu1w"
      },
      "source": [
        "import numpy as np\n",
        "import matplotlib.pyplot as plt\n",
        "import pandas as pd\n",
        "\n",
        "from tqdm import tqdm\n",
        "tqdm.pandas()\n",
        "\n",
        "from sklearn.model_selection import train_test_split\n",
        "\n",
        "from toolz import curry"
      ],
      "execution_count": 2,
      "outputs": []
    },
    {
      "cell_type": "code",
      "metadata": {
        "id": "eVt2BVBcLvEO",
        "colab": {
          "base_uri": "https://localhost:8080/"
        },
        "outputId": "06bf5091-6f9c-47d5-fcc2-8918b48d736f"
      },
      "source": [
        "df = pd.read_csv('train.csv.zip', compression='zip', nrows=5000000,\n",
        "                   error_bad_lines=False)#.drop(columns='key')\n",
        "\n",
        "df['anomes'] = df.progress_apply(lambda x: int(x.pickup_datetime[:4]+x.pickup_datetime[5:7]), axis = 1)"
      ],
      "execution_count": 3,
      "outputs": [
        {
          "output_type": "stream",
          "text": [
            "100%|██████████| 5000000/5000000 [02:14<00:00, 37038.60it/s]\n"
          ],
          "name": "stderr"
        }
      ]
    },
    {
      "cell_type": "code",
      "metadata": {
        "colab": {
          "base_uri": "https://localhost:8080/"
        },
        "id": "G4g40BSS2AC5",
        "outputId": "8b1bbed7-36ea-4de0-b490-58610ce0b1df"
      },
      "source": [
        "df['anomes'].max()"
      ],
      "execution_count": 4,
      "outputs": [
        {
          "output_type": "execute_result",
          "data": {
            "text/plain": [
              "201506"
            ]
          },
          "metadata": {},
          "execution_count": 4
        }
      ]
    },
    {
      "cell_type": "markdown",
      "metadata": {
        "id": "y-pxuMQh2Iku"
      },
      "source": [
        "**Validação out of time**: Vamos separar 201407 até 201506 inteiro para ser a nossa validação final. Enquanto treinamos com os dados de 201209 (como discutido anteriormente) até 201406."
      ]
    },
    {
      "cell_type": "code",
      "metadata": {
        "id": "GSon3MGtnDpk"
      },
      "source": [
        " df_train, df_test, _, _ = train_test_split(df, df.index, test_size=0.2, random_state=42)\n",
        "\n",
        "df_train = df_train.query(\"201406>=anomes>=201209\").reset_index(drop=True)\n",
        "df_test = df_test.query(\"anomes>=201407\").reset_index(drop=True)"
      ],
      "execution_count": 5,
      "outputs": []
    },
    {
      "cell_type": "code",
      "metadata": {
        "colab": {
          "base_uri": "https://localhost:8080/"
        },
        "id": "NHE52AnZ27EE",
        "outputId": "00b07b51-fba3-4e42-af3f-9e9983c6a7c0"
      },
      "source": [
        "df_train.shape, df_test.shape"
      ],
      "execution_count": 6,
      "outputs": [
        {
          "output_type": "execute_result",
          "data": {
            "text/plain": [
              "((1140518, 9), (141336, 9))"
            ]
          },
          "metadata": {},
          "execution_count": 6
        }
      ]
    },
    {
      "cell_type": "code",
      "metadata": {
        "id": "CJuLSLpUnhLK"
      },
      "source": [
        "def date_vars(df):\n",
        "  df_aux = df.copy()\n",
        "  print('6 barras')\n",
        "\n",
        "  df_aux['pickup_datetime'] = df_aux.progress_apply(lambda x: pd.to_datetime(x.pickup_datetime), axis=1)\n",
        "  df_aux['weekday'] = df_aux.progress_apply(lambda x: x.pickup_datetime.day, axis=1)\n",
        "  df_aux['year'] = df_aux.progress_apply(lambda x: x.pickup_datetime.year, axis=1)\n",
        "  df_aux['month'] = df_aux.progress_apply(lambda x: x.pickup_datetime.month, axis=1)\n",
        "  df_aux['time'] = df_aux.progress_apply(lambda x: x.pickup_datetime.hour*60 + x.pickup_datetime.minute, axis=1)\n",
        "  df_aux['weekofyear'] = df_aux.progress_apply(lambda x: x.pickup_datetime.weekofyear, axis=1)\n",
        "\n",
        "  return df_aux"
      ],
      "execution_count": 7,
      "outputs": []
    },
    {
      "cell_type": "code",
      "metadata": {
        "id": "XIrlC1TTOIUE",
        "colab": {
          "base_uri": "https://localhost:8080/"
        },
        "outputId": "7595e600-1e02-4e41-b5cb-9a44078727af"
      },
      "source": [
        "df_train = date_vars(df_train)"
      ],
      "execution_count": 8,
      "outputs": [
        {
          "output_type": "stream",
          "text": [
            "6 barras\n"
          ],
          "name": "stdout"
        },
        {
          "output_type": "stream",
          "text": [
            "100%|██████████| 1140518/1140518 [08:07<00:00, 2341.03it/s]\n",
            "100%|██████████| 1140518/1140518 [00:21<00:00, 54144.46it/s]\n",
            "100%|██████████| 1140518/1140518 [00:22<00:00, 51511.49it/s]\n",
            "100%|██████████| 1140518/1140518 [00:22<00:00, 51688.39it/s]\n",
            "100%|██████████| 1140518/1140518 [00:30<00:00, 36834.04it/s]\n",
            "100%|██████████| 1140518/1140518 [00:22<00:00, 51201.21it/s]\n"
          ],
          "name": "stderr"
        }
      ]
    },
    {
      "cell_type": "code",
      "metadata": {
        "colab": {
          "base_uri": "https://localhost:8080/"
        },
        "id": "3jfNBqKhMSgc",
        "outputId": "64fe22d8-b14f-42a1-c359-a353d14c8966"
      },
      "source": [
        "df_test = date_vars(df_test)"
      ],
      "execution_count": 9,
      "outputs": [
        {
          "output_type": "stream",
          "text": [
            "6 barras\n"
          ],
          "name": "stdout"
        },
        {
          "output_type": "stream",
          "text": [
            "100%|██████████| 141336/141336 [00:59<00:00, 2358.23it/s]\n",
            "100%|██████████| 141336/141336 [00:02<00:00, 52683.37it/s]\n",
            "100%|██████████| 141336/141336 [00:02<00:00, 50962.21it/s]\n",
            "100%|██████████| 141336/141336 [00:02<00:00, 51691.82it/s]\n",
            "100%|██████████| 141336/141336 [00:03<00:00, 36798.01it/s]\n",
            "100%|██████████| 141336/141336 [00:02<00:00, 51709.66it/s]\n"
          ],
          "name": "stderr"
        }
      ]
    },
    {
      "cell_type": "markdown",
      "metadata": {
        "id": "zerJd13LYpLs"
      },
      "source": [
        "## 3.2 - Processamento das latitudes/longitudes\n",
        "\n",
        "Aqui vamos aplicar as manipulações discutidas no primeiro notebook."
      ]
    },
    {
      "cell_type": "code",
      "metadata": {
        "id": "vSommBDQWnsB"
      },
      "source": [
        "@curry\n",
        "def swap_long_lat(df, coluna, coluna_swap, lim_inf, lim_sup):\n",
        "\n",
        "  df_aux1 = df.query(f\"{lim_inf}<{coluna}<{lim_sup} or {coluna}==0\")\n",
        "  \n",
        "  df_aux2 = df.query(f\"(not ({lim_inf}<{coluna}<{lim_sup})) and {coluna}!=0\")\n",
        "  i = df_aux2.columns.to_list()\n",
        "  a, b = i.index(coluna), i.index(coluna_swap)\n",
        "  i[b], i[a] = i[a], i[b]\n",
        "  df_aux2.columns = i\n",
        "\n",
        "  df_aux3 = df_aux2.query(f\"{lim_inf}<{coluna}<{lim_sup}\")\n",
        "  \n",
        "  df_aux4 = df_aux2.query(f\"not({lim_inf}<{coluna}<{lim_sup})\")\n",
        "  i = df_aux4.columns.to_list()\n",
        "  a, b = i.index(coluna), i.index(coluna_swap)\n",
        "  i[b], i[a] = i[a], i[b]\n",
        "  df_aux4.columns = i\n",
        "\n",
        "  return pd.concat([df_aux1, df_aux3, df_aux4])\n",
        "\n",
        "@curry\n",
        "def flag_erro(df, lim_inf_lat, lim_sup_lat, lim_inf_long, lim_sup_long):\n",
        "  df_aux = df.copy()\n",
        "  query = \" or \".join([f\"(not({lim_inf_long}<{col}<{lim_sup_long}))\" for col in ['pickup_longitude', 'dropoff_longitude']]\n",
        "                      + [f\"(not({lim_inf_lat}<{col}<{lim_sup_lat}))\" for col in ['pickup_latitude', 'dropoff_latitude']])\n",
        "  df_aux['flag_error'] = 0\n",
        "  df_aux.loc[df_aux.query(query).index, 'flag_error'] = 1\n",
        "  return df_aux\n",
        "\n",
        "@curry\n",
        "def fill_error(df, coluna, lim_inf, lim_sup):\n",
        "  df_aux = df.copy()\n",
        "  df_aux.loc[df_aux.query(f\"(not({lim_inf}<{coluna}<{lim_sup}))\").index, coluna] = np.nan\n",
        "  return df_aux.fillna(dict(df_aux[[coluna]].median()))"
      ],
      "execution_count": 10,
      "outputs": []
    },
    {
      "cell_type": "code",
      "metadata": {
        "id": "vu8vR9mvdbZh"
      },
      "source": [
        "def preprocess_latlong(df, lim_inf_lat, lim_sup_lat, lim_inf_long, lim_sup_long):\n",
        "  return (df\n",
        "          .fillna(0)\n",
        "          .pipe(swap_long_lat(coluna='pickup_longitude', coluna_swap='pickup_latitude', lim_inf=lim_inf_long, lim_sup=lim_sup_long))\n",
        "          .pipe(swap_long_lat(coluna='pickup_latitude', coluna_swap='pickup_longitude', lim_inf=lim_inf_lat, lim_sup=lim_sup_lat))\n",
        "          .pipe(swap_long_lat(coluna='dropoff_longitude', coluna_swap='dropoff_latitude', lim_inf=lim_inf_long, lim_sup=lim_sup_long))\n",
        "          .pipe(swap_long_lat(coluna='dropoff_latitude', coluna_swap='dropoff_longitude', lim_inf=lim_inf_lat, lim_sup=lim_sup_lat))\n",
        "          .pipe(flag_erro(lim_inf_lat=lim_inf_lat, lim_sup_lat=lim_sup_lat, lim_inf_long=lim_inf_long, lim_sup_long=lim_sup_long))\n",
        "          .pipe(fill_error(coluna='pickup_longitude', lim_inf=lim_inf_long, lim_sup=lim_sup_long))\n",
        "          .pipe(fill_error(coluna='pickup_latitude', lim_inf=lim_inf_lat, lim_sup=lim_sup_lat))\n",
        "          .pipe(fill_error(coluna='dropoff_longitude', lim_inf=lim_inf_long, lim_sup=lim_sup_long))\n",
        "          .pipe(fill_error(coluna='dropoff_latitude', lim_inf=lim_inf_lat, lim_sup=lim_sup_lat))\n",
        "          )"
      ],
      "execution_count": 11,
      "outputs": []
    },
    {
      "cell_type": "code",
      "metadata": {
        "id": "diN2e3hJXwRZ",
        "colab": {
          "base_uri": "https://localhost:8080/"
        },
        "outputId": "50cc3cb0-eecf-46f5-e5e1-40a76981534b"
      },
      "source": [
        "%%time\n",
        "\n",
        "# limites de latitudes/longitudes que vamos tolerar\n",
        "lim_inf_lat, lim_sup_lat =     39, 42  #  40.3,  41.2\n",
        "lim_inf_long, lim_sup_long = -76, -72  # -74.3, -73.5\n",
        "\n",
        "df_train = preprocess_latlong(df_train, lim_inf_lat, lim_sup_lat, lim_inf_long, lim_sup_long)\n",
        "\n",
        "df_test = preprocess_latlong(df_test, lim_inf_lat, lim_sup_lat, lim_inf_long, lim_sup_long)"
      ],
      "execution_count": 12,
      "outputs": [
        {
          "output_type": "stream",
          "text": [
            "CPU times: user 10.8 s, sys: 103 ms, total: 10.9 s\n",
            "Wall time: 10.7 s\n"
          ],
          "name": "stdout"
        }
      ]
    },
    {
      "cell_type": "code",
      "metadata": {
        "colab": {
          "base_uri": "https://localhost:8080/"
        },
        "id": "eedK-bNmV_XD",
        "outputId": "132938dc-d4f7-4dd5-cb51-8cbbc7cdc012"
      },
      "source": [
        "df_train.flag_error.sum()"
      ],
      "execution_count": 13,
      "outputs": [
        {
          "output_type": "execute_result",
          "data": {
            "text/plain": [
              "21821"
            ]
          },
          "metadata": {},
          "execution_count": 13
        }
      ]
    },
    {
      "cell_type": "code",
      "metadata": {
        "colab": {
          "base_uri": "https://localhost:8080/"
        },
        "id": "Ta7W-hN7K4DI",
        "outputId": "1c1877e0-7564-4437-d9b3-50606c711ef3"
      },
      "source": [
        "df_train.shape[0]"
      ],
      "execution_count": 14,
      "outputs": [
        {
          "output_type": "execute_result",
          "data": {
            "text/plain": [
              "1140518"
            ]
          },
          "metadata": {},
          "execution_count": 14
        }
      ]
    },
    {
      "cell_type": "markdown",
      "metadata": {
        "id": "ItRVzsoxaZgn"
      },
      "source": [
        "## 3.3 - Criando variável de distância entre pickup e dropoff"
      ]
    },
    {
      "cell_type": "code",
      "metadata": {
        "id": "EnNNJ5YZUoqx"
      },
      "source": [
        "# df_train.fillna(0, inplace=True)\n",
        "# df_test.fillna(0, inplace=True)\n",
        "\n",
        "# lat_long_cols = ['pickup_longitude', 'pickup_latitude', 'dropoff_longitude', 'dropoff_latitude']\n",
        "# for col in lat_long_cols:\n",
        "#   df_train[col] = df_train[col].clip(-89, 89)\n",
        "#   df_test[col] = df_test[col].clip(-89, 89)"
      ],
      "execution_count": 95,
      "outputs": []
    },
    {
      "cell_type": "code",
      "metadata": {
        "colab": {
          "base_uri": "https://localhost:8080/"
        },
        "id": "_2a9XWJDfGx5",
        "outputId": "1216e5ad-0686-456b-ac79-88aff559162f"
      },
      "source": [
        "# função que, dada latitude/longitude de dois pontos calcula a distância entre eles\n",
        "from geopy.distance import distance\n",
        "\n",
        "distance((df_train.iloc[0].pickup_latitude, df_train.iloc[0].pickup_longitude), (df_train.iloc[0].dropoff_latitude, df_train.iloc[0].dropoff_longitude)).km"
      ],
      "execution_count": 15,
      "outputs": [
        {
          "output_type": "execute_result",
          "data": {
            "text/plain": [
              "5.122833365107197"
            ]
          },
          "metadata": {},
          "execution_count": 15
        }
      ]
    },
    {
      "cell_type": "code",
      "metadata": {
        "colab": {
          "base_uri": "https://localhost:8080/"
        },
        "id": "APjeKPgof6dJ",
        "outputId": "81c2142c-a12b-4533-b3a7-d834f65ae47d"
      },
      "source": [
        "distance((df_train.iloc[0].dropoff_latitude, df_train.iloc[0].dropoff_longitude), (df_train.iloc[0].pickup_latitude, df_train.iloc[0].pickup_longitude)).km"
      ],
      "execution_count": 16,
      "outputs": [
        {
          "output_type": "execute_result",
          "data": {
            "text/plain": [
              "5.122833365107197"
            ]
          },
          "metadata": {},
          "execution_count": 16
        }
      ]
    },
    {
      "cell_type": "code",
      "metadata": {
        "id": "ztO2f8Vw30PQ",
        "colab": {
          "base_uri": "https://localhost:8080/"
        },
        "outputId": "4ce7714d-e515-4248-d93c-f8ef44ef99c9"
      },
      "source": [
        "df_train['distance'] = df_train.progress_apply(lambda x: distance((x.pickup_latitude, x.pickup_longitude), (x.dropoff_latitude, x.dropoff_longitude)).km, axis=1)"
      ],
      "execution_count": 17,
      "outputs": [
        {
          "output_type": "stream",
          "text": [
            "100%|██████████| 1140518/1140518 [06:14<00:00, 3047.84it/s]\n"
          ],
          "name": "stderr"
        }
      ]
    },
    {
      "cell_type": "code",
      "metadata": {
        "colab": {
          "base_uri": "https://localhost:8080/"
        },
        "id": "L0csSQEchonm",
        "outputId": "7cf231a0-77b9-4b5f-df55-e3a4a1cd3a7d"
      },
      "source": [
        "df_test['distance'] = df_test.progress_apply(lambda x: distance((x.pickup_latitude, x.pickup_longitude), (x.dropoff_latitude, x.dropoff_longitude)).km, axis=1)"
      ],
      "execution_count": 18,
      "outputs": [
        {
          "output_type": "stream",
          "text": [
            "100%|██████████| 141336/141336 [00:46<00:00, 3040.93it/s]\n"
          ],
          "name": "stderr"
        }
      ]
    },
    {
      "cell_type": "code",
      "metadata": {
        "colab": {
          "base_uri": "https://localhost:8080/"
        },
        "id": "XjZMlzYrGlRn",
        "outputId": "7a90ad73-379e-4d29-9db6-c4aea5a58413"
      },
      "source": [
        "df_train['distance'].describe(percentiles=[0.1, 0.25, 0.75, 0.99])"
      ],
      "execution_count": 19,
      "outputs": [
        {
          "output_type": "execute_result",
          "data": {
            "text/plain": [
              "count    1.140518e+06\n",
              "mean     3.344483e+00\n",
              "std      3.754549e+00\n",
              "min      0.000000e+00\n",
              "10%      7.429178e-01\n",
              "25%      1.233960e+00\n",
              "50%      2.148691e+00\n",
              "75%      3.936585e+00\n",
              "99%      2.047305e+01\n",
              "max      1.753160e+02\n",
              "Name: distance, dtype: float64"
            ]
          },
          "metadata": {},
          "execution_count": 19
        }
      ]
    },
    {
      "cell_type": "code",
      "metadata": {
        "colab": {
          "base_uri": "https://localhost:8080/",
          "height": 265
        },
        "id": "8EaJ_WRIGs5X",
        "outputId": "ab546ff3-bcec-44c2-cddb-6390edd60879"
      },
      "source": [
        "plt.hist(df_train.query('distance<25')['distance'], bins =30)\n",
        "plt.show()"
      ],
      "execution_count": 20,
      "outputs": [
        {
          "output_type": "display_data",
          "data": {
            "image/png": "[encoded data removed]",
            "text/plain": [
              "<Figure size 432x288 with 1 Axes>"
            ]
          },
          "metadata": {
            "needs_background": "light"
          }
        }
      ]
    },
    {
      "cell_type": "markdown",
      "metadata": {
        "id": "e7lSiuDN6Wi8"
      },
      "source": [
        "## 3.4 - Criando a variável de CEP a partir da API do geopy\n",
        "\n",
        "Para mais detalhes, olhar o notebook de apêndice."
      ]
    },
    {
      "cell_type": "code",
      "metadata": {
        "id": "ISnDJVML6XbM"
      },
      "source": [
        "from sklearn.neighbors import KNeighborsClassifier\n",
        "from geopy.geocoders import Nominatim\n",
        "from geopy.extra.rate_limiter import RateLimiter\n",
        "\n",
        "class filling_zipcode:\n",
        "  \n",
        "  def __init__(self):\n",
        "    self.geocode = RateLimiter(Nominatim(user_agent='serasa_datalab_case').reverse, min_delay_seconds=0.1)\n",
        "\n",
        "  def fun(self, row):\n",
        "    return ' , '.join(row[['pickup_latitude','pickup_longitude']].apply(lambda x: np.round(x, decimals=6)).astype(str).to_list())\n",
        "\n",
        "  def try_except(self, loc, info):\n",
        "    try:\n",
        "      return loc['address'][info]\n",
        "    except:\n",
        "      return \"NaN\"\n",
        "\n",
        "  def geolocar(self, x):\n",
        "    infos = ['suburb', 'postcode']\n",
        "    if x['pickup_latitude'] != 0 and x['pickup_longitude'] != 0 :\n",
        "      loc = self.geocode(x['api']).raw\n",
        "      return [self.try_except(loc, info) for info in infos]\n",
        "    else:\n",
        "      return ['NaN' for info in infos]\n",
        "\n",
        "\n",
        "  def consulta_fit(self, df, n_consultas=1000, frequencia_min=20):\n",
        "\n",
        "    df_aux = df.head(n_consultas).copy()\n",
        "    df_aux['api'] = df_aux.apply(self.fun, axis=1)\n",
        "\n",
        "    df_aux['response_api'] = df_aux.progress_apply(self.geolocar, axis=1)\n",
        "\n",
        "    df_aux['suburb'] = df_aux.apply(lambda x: x['response_api'][0], axis=1)\n",
        "    df_aux['postcode'] = df_aux.apply(lambda x: x['response_api'][1][:5], axis=1)\n",
        "\n",
        "    counts = df_aux.postcode.value_counts()\n",
        "    repl = counts[counts < frequencia_min].index\n",
        "    df_aux['postcode'] = df_aux['postcode'].replace(repl, '10000')\n",
        "\n",
        "    X = df_aux[['pickup_latitude','pickup_longitude']]\n",
        "    y = df_aux['postcode']\n",
        "\n",
        "    self.knn = KNeighborsClassifier(n_neighbors=1).fit(X, y)\n",
        "\n",
        "  def predict(self, df):\n",
        "    df_aux = df.copy()\n",
        "    df_aux['pickup_zipcode'] = self.knn.predict(df_aux[['pickup_latitude','pickup_longitude']])\n",
        "    df_aux['dropoff_zipcode'] = self.knn.predict(df_aux[['dropoff_latitude','dropoff_longitude']])\n",
        "    return df_aux"
      ],
      "execution_count": 21,
      "outputs": []
    },
    {
      "cell_type": "code",
      "metadata": {
        "colab": {
          "base_uri": "https://localhost:8080/"
        },
        "id": "LnCLI3026cG3",
        "outputId": "ecd3b4b4-9de6-49d6-d3d8-088503be3bfd"
      },
      "source": [
        "preenchedor = filling_zipcode()\n",
        "preenchedor.consulta_fit(df_train, 1000, 30)"
      ],
      "execution_count": 22,
      "outputs": [
        {
          "output_type": "stream",
          "text": [
            "100%|██████████| 1000/1000 [16:17<00:00,  1.02it/s]\n"
          ],
          "name": "stderr"
        }
      ]
    },
    {
      "cell_type": "code",
      "metadata": {
        "id": "eZw6B7PG6mKz",
        "colab": {
          "base_uri": "https://localhost:8080/"
        },
        "outputId": "3b5b34d4-ad2f-4c72-f959-adf28b9b23a8"
      },
      "source": [
        "%%time\n",
        "df_train = preenchedor.predict(df_train)"
      ],
      "execution_count": 23,
      "outputs": [
        {
          "output_type": "stream",
          "text": [
            "CPU times: user 1min 19s, sys: 4.29 s, total: 1min 23s\n",
            "Wall time: 1min 19s\n"
          ],
          "name": "stdout"
        }
      ]
    },
    {
      "cell_type": "code",
      "metadata": {
        "id": "Zta7XPRX7SoX",
        "colab": {
          "base_uri": "https://localhost:8080/"
        },
        "outputId": "430f5d12-b1b9-4a89-c94c-9f260bcfedaf"
      },
      "source": [
        "%%time\n",
        "df_test = preenchedor.predict(df_test)"
      ],
      "execution_count": 24,
      "outputs": [
        {
          "output_type": "stream",
          "text": [
            "CPU times: user 10.3 s, sys: 724 ms, total: 11.1 s\n",
            "Wall time: 10.3 s\n"
          ],
          "name": "stdout"
        }
      ]
    },
    {
      "cell_type": "code",
      "metadata": {
        "id": "IC80LSauoUC4"
      },
      "source": [
        "# df_train_backup = df_train.copy()\n",
        "# df_test_backup = df_test.copy()\n",
        "\n",
        "# df_train = df_train_backup.copy()\n",
        "# df_test = df_test_backup.copy()"
      ],
      "execution_count": 27,
      "outputs": []
    },
    {
      "cell_type": "markdown",
      "metadata": {
        "id": "pCsUhlFI1BrX"
      },
      "source": [
        "## 3.5 - Dando um get_dummies na variável de CEP"
      ]
    },
    {
      "cell_type": "code",
      "metadata": {
        "id": "hhpsGZhGYhCO"
      },
      "source": [
        "# pip install category_encoders"
      ],
      "execution_count": null,
      "outputs": []
    },
    {
      "cell_type": "code",
      "metadata": {
        "id": "qiO3RD-eDr5j",
        "colab": {
          "base_uri": "https://localhost:8080/"
        },
        "outputId": "b2806e84-3931-41ab-cd5b-d5bed955cd69"
      },
      "source": [
        "%%time\n",
        "\n",
        "from category_encoders.one_hot import OneHotEncoder\n",
        "enc = OneHotEncoder(cols=['pickup_zipcode', 'dropoff_zipcode'], use_cat_names=True)\n",
        "\n",
        "df_train = enc.fit_transform(df_train)\n",
        "df_test = enc.transform(df_test)"
      ],
      "execution_count": 28,
      "outputs": [
        {
          "output_type": "stream",
          "text": [
            "/usr/local/lib/python3.7/dist-packages/statsmodels/tools/_testing.py:19: FutureWarning: pandas.util.testing is deprecated. Use the functions in the public API at pandas.testing instead.\n",
            "  import pandas.util.testing as tm\n",
            "/usr/local/lib/python3.7/dist-packages/category_encoders/utils.py:21: FutureWarning: is_categorical is deprecated and will be removed in a future version.  Use is_categorical_dtype instead\n",
            "  elif pd.api.types.is_categorical(cols):\n"
          ],
          "name": "stderr"
        },
        {
          "output_type": "stream",
          "text": [
            "CPU times: user 5.02 s, sys: 800 ms, total: 5.82 s\n",
            "Wall time: 5.57 s\n"
          ],
          "name": "stdout"
        }
      ]
    },
    {
      "cell_type": "markdown",
      "metadata": {
        "id": "J3cLCZv-BUT0"
      },
      "source": [
        "## 3.6 Modelagem"
      ]
    },
    {
      "cell_type": "code",
      "metadata": {
        "id": "6yu1V8U94E2C"
      },
      "source": [
        "from lightgbm import LGBMRegressor\n",
        "# import xgboost as xgb\n",
        "from sklearn.model_selection import cross_validate\n",
        "from sklearn.metrics import mean_absolute_error"
      ],
      "execution_count": 29,
      "outputs": []
    },
    {
      "cell_type": "code",
      "metadata": {
        "colab": {
          "base_uri": "https://localhost:8080/"
        },
        "id": "zaAg_SVGXmLl",
        "outputId": "c220eae2-aae1-4d77-c5d7-570dc714ff6a"
      },
      "source": [
        "df_train.columns"
      ],
      "execution_count": 30,
      "outputs": [
        {
          "output_type": "execute_result",
          "data": {
            "text/plain": [
              "Index(['key', 'fare_amount', 'pickup_datetime', 'pickup_longitude',\n",
              "       'pickup_latitude', 'dropoff_longitude', 'dropoff_latitude',\n",
              "       'passenger_count', 'anomes', 'weekday', 'year', 'month', 'time',\n",
              "       'weekofyear', 'flag_error', 'distance', 'pickup_zipcode_10000',\n",
              "       'pickup_zipcode_10019', 'pickup_zipcode_10001', 'pickup_zipcode_10021',\n",
              "       'pickup_zipcode_10011', 'pickup_zipcode_10022', 'pickup_zipcode_10018',\n",
              "       'pickup_zipcode_10016', 'pickup_zipcode_10017', 'pickup_zipcode_10036',\n",
              "       'pickup_zipcode_10024', 'pickup_zipcode_10003', 'dropoff_zipcode_10000',\n",
              "       'dropoff_zipcode_10022', 'dropoff_zipcode_10019',\n",
              "       'dropoff_zipcode_10016', 'dropoff_zipcode_10017',\n",
              "       'dropoff_zipcode_10021', 'dropoff_zipcode_10011',\n",
              "       'dropoff_zipcode_10024', 'dropoff_zipcode_10036',\n",
              "       'dropoff_zipcode_10003', 'dropoff_zipcode_10018',\n",
              "       'dropoff_zipcode_10001'],\n",
              "      dtype='object')"
            ]
          },
          "metadata": {},
          "execution_count": 30
        }
      ]
    },
    {
      "cell_type": "code",
      "metadata": {
        "id": "kNbow8yq4E5z"
      },
      "source": [
        "var_cols = ['pickup_longitude', 'pickup_latitude',\n",
        "            'dropoff_longitude', 'dropoff_latitude', 'passenger_count', \n",
        "             'flag_error', 'distance'] #,\n",
        "       \n",
        "zipcode_cols = [col for col in df_train.columns if 'zipcode' in col]\n",
        "\n",
        "time_cols = ['weekday', 'time']\n",
        "\n",
        "vars = var_cols  + time_cols + zipcode_cols"
      ],
      "execution_count": 31,
      "outputs": []
    },
    {
      "cell_type": "code",
      "metadata": {
        "id": "JqMoUaSoIRJA",
        "colab": {
          "base_uri": "https://localhost:8080/"
        },
        "outputId": "adf8e274-7d4f-4e93-bfd3-d3e99c958c52"
      },
      "source": [
        "lgbm = LGBMRegressor(random_state=0)\n",
        "# cross validate sem visão temporal\n",
        "pd.DataFrame(cross_validate(lgbm, df_train[vars], df_train['fare_amount'], scoring='neg_mean_absolute_error')).apply(lambda x: np.sqrt(-np.mean(x))).test_score"
      ],
      "execution_count": 58,
      "outputs": [
        {
          "output_type": "stream",
          "text": [
            "/usr/local/lib/python3.7/dist-packages/ipykernel_launcher.py:2: RuntimeWarning: invalid value encountered in sqrt\n",
            "  \n"
          ],
          "name": "stderr"
        },
        {
          "output_type": "execute_result",
          "data": {
            "text/plain": [
              "1.4644769240347495"
            ]
          },
          "metadata": {},
          "execution_count": 58
        }
      ]
    },
    {
      "cell_type": "code",
      "metadata": {
        "id": "E6fDs-TnHFuq",
        "colab": {
          "base_uri": "https://localhost:8080/",
          "height": 359
        },
        "outputId": "29eeff95-c722-4024-82a4-f83490a6e848"
      },
      "source": [
        "lgbm.fit(df_train[vars], df_train['fare_amount'])\n",
        "\n",
        "(pd.DataFrame(lgbm.booster_.feature_importance(importance_type='gain'), \n",
        "              index=vars, columns=['feature_importances'])\n",
        ".sort_values(by='feature_importances', ascending=False)\n",
        ").head(10)"
      ],
      "execution_count": 33,
      "outputs": [
        {
          "output_type": "execute_result",
          "data": {
            "text/html": [
              "<div>\n",
              "<style scoped>\n",
              "    .dataframe tbody tr th:only-of-type {\n",
              "        vertical-align: middle;\n",
              "    }\n",
              "\n",
              "    .dataframe tbody tr th {\n",
              "        vertical-align: top;\n",
              "    }\n",
              "\n",
              "    .dataframe thead th {\n",
              "        text-align: right;\n",
              "    }\n",
              "</style>\n",
              "<table border=\"1\" class=\"dataframe\">\n",
              "  <thead>\n",
              "    <tr style=\"text-align: right;\">\n",
              "      <th></th>\n",
              "      <th>feature_importances</th>\n",
              "    </tr>\n",
              "  </thead>\n",
              "  <tbody>\n",
              "    <tr>\n",
              "      <th>distance</th>\n",
              "      <td>5.361651e+08</td>\n",
              "    </tr>\n",
              "    <tr>\n",
              "      <th>dropoff_longitude</th>\n",
              "      <td>2.593786e+07</td>\n",
              "    </tr>\n",
              "    <tr>\n",
              "      <th>dropoff_latitude</th>\n",
              "      <td>1.104476e+07</td>\n",
              "    </tr>\n",
              "    <tr>\n",
              "      <th>pickup_longitude</th>\n",
              "      <td>7.305666e+06</td>\n",
              "    </tr>\n",
              "    <tr>\n",
              "      <th>time</th>\n",
              "      <td>4.107030e+06</td>\n",
              "    </tr>\n",
              "    <tr>\n",
              "      <th>pickup_latitude</th>\n",
              "      <td>3.372655e+06</td>\n",
              "    </tr>\n",
              "    <tr>\n",
              "      <th>flag_error</th>\n",
              "      <td>1.509890e+06</td>\n",
              "    </tr>\n",
              "    <tr>\n",
              "      <th>weekday</th>\n",
              "      <td>5.986203e+05</td>\n",
              "    </tr>\n",
              "    <tr>\n",
              "      <th>passenger_count</th>\n",
              "      <td>1.971323e+05</td>\n",
              "    </tr>\n",
              "    <tr>\n",
              "      <th>pickup_zipcode_10000</th>\n",
              "      <td>6.447051e+04</td>\n",
              "    </tr>\n",
              "  </tbody>\n",
              "</table>\n",
              "</div>"
            ],
            "text/plain": [
              "                      feature_importances\n",
              "distance                     5.361651e+08\n",
              "dropoff_longitude            2.593786e+07\n",
              "dropoff_latitude             1.104476e+07\n",
              "pickup_longitude             7.305666e+06\n",
              "time                         4.107030e+06\n",
              "pickup_latitude              3.372655e+06\n",
              "flag_error                   1.509890e+06\n",
              "weekday                      5.986203e+05\n",
              "passenger_count              1.971323e+05\n",
              "pickup_zipcode_10000         6.447051e+04"
            ]
          },
          "metadata": {},
          "execution_count": 33
        }
      ]
    },
    {
      "cell_type": "code",
      "metadata": {
        "colab": {
          "base_uri": "https://localhost:8080/"
        },
        "id": "hI629QqUX7kA",
        "outputId": "6668d663-e868-4fe7-a60a-003769aa8e52"
      },
      "source": [
        "mean_absolute_error(df_test['fare_amount'], lgbm.predict(df_test[vars]))"
      ],
      "execution_count": 34,
      "outputs": [
        {
          "output_type": "execute_result",
          "data": {
            "text/plain": [
              "2.1201447619541702"
            ]
          },
          "metadata": {},
          "execution_count": 34
        }
      ]
    },
    {
      "cell_type": "markdown",
      "metadata": {
        "id": "YHPunumXJPja"
      },
      "source": [
        "# 3.7 Otimização Bayesiana de hiperparâmetros"
      ]
    },
    {
      "cell_type": "code",
      "metadata": {
        "id": "rXh8UcbzJS_d"
      },
      "source": [
        "# pip install scikit-optimize"
      ],
      "execution_count": 81,
      "outputs": []
    },
    {
      "cell_type": "code",
      "metadata": {
        "id": "tVBbwut-JOqj"
      },
      "source": [
        "from skopt import gp_minimize\n",
        "from sklearn.model_selection import TimeSeriesSplit"
      ],
      "execution_count": 36,
      "outputs": []
    },
    {
      "cell_type": "code",
      "metadata": {
        "id": "fINs7mkJPi_8"
      },
      "source": [
        "df_train = df_train.sort_values(by=['key'])"
      ],
      "execution_count": 37,
      "outputs": []
    },
    {
      "cell_type": "code",
      "metadata": {
        "id": "ppsIPvLnJNYq"
      },
      "source": [
        "# baseado no código do mario filho: https://github.com/ledmaster/notebooks_tutoriais/blob/master/como_tunar_hipers.ipynb\n",
        "\n",
        "def treinar_modelo(params):\n",
        "    learning_rate = params[0]\n",
        "    num_leaves = params[1]\n",
        "    min_child_samples = params[2]\n",
        "    subsample = params[3]\n",
        "    colsample_bytree = params[4]\n",
        "    max_depth = int(params[5])\n",
        "    n_estimators = params[6]\n",
        "\n",
        "    print(params)\n",
        "\n",
        "    mdl = LGBMRegressor(learning_rate=learning_rate, num_leaves=num_leaves, min_child_samples=min_child_samples,\n",
        "                        max_depth=max_depth, \n",
        "                        subsample=subsample, colsample_bytree=colsample_bytree, random_state=0, subsample_freq=1, \n",
        "                         n_estimators=n_estimators)\n",
        "    \n",
        "    tss = TimeSeriesSplit(n_splits=5)\n",
        "    cv = cross_validate(mdl, df_train[vars], df_train['fare_amount'], cv=tss, scoring='neg_mean_absolute_error', return_train_score=True)\n",
        "    \n",
        "    print(-cv['train_score'].mean(), -cv['test_score'].mean(), '\\n')\n",
        "    if abs(cv['train_score'].mean() - cv['test_score'].mean())<0.3:\n",
        "      return -cv['test_score'].mean()\n",
        "    else:\n",
        "      return -cv['test_score'].mean()\n",
        "\n",
        "space = [(1e-3, 3e-1, 'log-uniform'), #learning rate\n",
        "         (10, 2000), # num_leaves\n",
        "         (1, 500), # min_child_samples\n",
        "         (0.05, 1.0), # subsample\n",
        "         (0.1, 1.0), # colsample bytree\n",
        "         (2, 15), # max_depth\n",
        "         (100, 800) # n_estimators\n",
        "         ]\n",
        "         \n",
        "# [0.14034271283097055, 289, 500, 1.0, 1.0, 15, 70, 53, 723]"
      ],
      "execution_count": 44,
      "outputs": []
    },
    {
      "cell_type": "code",
      "metadata": {
        "id": "CZd2qp-NI78M",
        "colab": {
          "base_uri": "https://localhost:8080/"
        },
        "outputId": "df2e794d-5ec7-4fab-cb97-ee21615f835f"
      },
      "source": [
        "resultados_gp = gp_minimize(treinar_modelo, space, random_state=100, verbose=1, n_calls=50, n_random_starts=10)"
      ],
      "execution_count": 45,
      "outputs": [
        {
          "output_type": "stream",
          "text": [
            "Iteration No: 1 started. Evaluating function at random point.\n",
            "[0.04597628595236971, 830, 264, 0.19117459807159687, 0.24103997207740102, 4, 247]\n",
            "2.4379519632684703 2.4533788691808596 \n",
            "\n",
            "Iteration No: 1 ended. Evaluation done at random point.\n",
            "Time taken: 39.8804\n",
            "Function value obtained: 2.4534\n",
            "Current minimum: 2.4534\n",
            "Iteration No: 2 started. Evaluating function at random point.\n",
            "[0.01322792233052441, 1742, 33, 0.6430962938721628, 0.5710129698127167, 9, 104]\n",
            "3.2634631487846684 3.3054798254261164 \n",
            "\n",
            "Iteration No: 2 ended. Evaluation done at random point.\n",
            "Time taken: 44.0836\n",
            "Function value obtained: 3.3055\n",
            "Current minimum: 2.4534\n",
            "Iteration No: 3 started. Evaluating function at random point.\n",
            "[0.005774635432900128, 1901, 64, 0.1250384790853672, 0.3802178207536516, 10, 590]\n",
            "2.5323091653158256 2.5659050918018282 \n",
            "\n",
            "Iteration No: 3 ended. Evaluation done at random point.\n",
            "Time taken: 259.4113\n",
            "Function value obtained: 2.5659\n",
            "Current minimum: 2.4534\n",
            "Iteration No: 4 started. Evaluating function at random point.\n",
            "[0.038924677071266026, 1841, 150, 0.5903082572235946, 0.2607618920886491, 9, 553]\n",
            "2.1223895796448033 2.1693804851731397 \n",
            "\n",
            "Iteration No: 4 ended. Evaluation done at random point.\n",
            "Time taken: 205.8254\n",
            "Function value obtained: 2.1694\n",
            "Current minimum: 2.1694\n",
            "Iteration No: 5 started. Evaluating function at random point.\n",
            "[0.0022486049524257316, 1167, 240, 0.41709815524436755, 0.49641845184377664, 7, 410]\n",
            "4.218499931710067 4.257659127328232 \n",
            "\n",
            "Iteration No: 5 ended. Evaluation done at random point.\n",
            "Time taken: 126.9072\n",
            "Function value obtained: 4.2577\n",
            "Current minimum: 2.1694\n",
            "Iteration No: 6 started. Evaluating function at random point.\n",
            "[0.0011874600653342664, 1554, 276, 0.4120197344426545, 0.5763392036276439, 14, 223]\n",
            "5.635994766517644 5.680936828980107 \n",
            "\n",
            "Iteration No: 6 ended. Evaluation done at random point.\n",
            "Time taken: 159.1035\n",
            "Function value obtained: 5.6809\n",
            "Current minimum: 2.1694\n",
            "Iteration No: 7 started. Evaluating function at random point.\n",
            "[0.0019635884661037706, 1727, 38, 0.8338401189495581, 0.8525186317088137, 3, 108]\n",
            "5.820478404295574 5.866131745315197 \n",
            "\n",
            "Iteration No: 7 ended. Evaluation done at random point.\n",
            "Time taken: 17.9068\n",
            "Function value obtained: 5.8661\n",
            "Current minimum: 2.1694\n",
            "Iteration No: 8 started. Evaluating function at random point.\n",
            "[0.0013180856278992728, 721, 333, 0.060820129654675655, 0.19712598934260048, 14, 656]\n",
            "5.368008155029665 5.413487980763026 \n",
            "\n",
            "Iteration No: 8 ended. Evaluation done at random point.\n",
            "Time taken: 209.8337\n",
            "Function value obtained: 5.4135\n",
            "Current minimum: 2.1694\n",
            "Iteration No: 9 started. Evaluating function at random point.\n",
            "[0.10234985778424012, 1284, 313, 0.18823213433801994, 0.6131943101698524, 3, 319]\n",
            "2.2783651345428617 2.2849141633007406 \n",
            "\n",
            "Iteration No: 9 ended. Evaluation done at random point.\n",
            "Time taken: 42.8745\n",
            "Function value obtained: 2.2849\n",
            "Current minimum: 2.1694\n",
            "Iteration No: 10 started. Evaluating function at random point.\n",
            "[0.003449039931995964, 1059, 214, 0.9834989057360439, 0.22640633752099576, 12, 652]\n",
            "3.7317510951155577 3.7814841310757785 \n",
            "\n",
            "Iteration No: 10 ended. Evaluation done at random point.\n",
            "Time taken: 332.2656\n",
            "Function value obtained: 3.7815\n",
            "Current minimum: 2.1694\n",
            "Iteration No: 11 started. Searching for the next optimal point.\n",
            "[0.3, 10, 1, 0.05, 1.0, 15, 800]\n",
            "3.2160297497408465 3.3852613637202316 \n",
            "\n",
            "Iteration No: 11 ended. Search finished for the next optimal point.\n",
            "Time taken: 63.3575\n",
            "Function value obtained: 3.3853\n",
            "Current minimum: 2.1694\n",
            "Iteration No: 12 started. Searching for the next optimal point.\n",
            "[0.021174719823633625, 2000, 500, 0.05, 1.0, 2, 800]\n",
            "2.4579000106858615 2.470062686216494 \n",
            "\n",
            "Iteration No: 12 ended. Search finished for the next optimal point.\n",
            "Time taken: 73.7399\n",
            "Function value obtained: 2.4701\n",
            "Current minimum: 2.1694\n",
            "Iteration No: 13 started. Searching for the next optimal point.\n",
            "[0.04825877601252085, 2000, 1, 0.05, 0.1, 15, 800]\n",
            "2.3408993368792412 2.472812644273059 \n",
            "\n",
            "Iteration No: 13 ended. Search finished for the next optimal point.\n",
            "Time taken: 355.1389\n",
            "Function value obtained: 2.4728\n",
            "Current minimum: 2.1694\n",
            "Iteration No: 14 started. Searching for the next optimal point.\n",
            "[0.03267061257715578, 2000, 122, 0.4472159446415423, 0.2675365278430142, 10, 545]\n",
            "2.1274992843966984 2.177059799308472 \n",
            "\n",
            "Iteration No: 14 ended. Search finished for the next optimal point.\n",
            "Time taken: 259.2994\n",
            "Function value obtained: 2.1771\n",
            "Current minimum: 2.1694\n",
            "Iteration No: 15 started. Searching for the next optimal point.\n",
            "[0.04951992735468619, 1688, 230, 1.0, 0.22373200625489714, 3, 507]\n",
            "2.3031329055526673 2.3173627644491885 \n",
            "\n",
            "Iteration No: 15 ended. Search finished for the next optimal point.\n",
            "Time taken: 62.1721\n",
            "Function value obtained: 2.3174\n",
            "Current minimum: 2.1694\n",
            "Iteration No: 16 started. Searching for the next optimal point.\n",
            "[0.03651274435320199, 1706, 91, 0.12700072509184612, 0.29805001269654363, 15, 607]\n",
            "2.075551198509269 2.1355495798365576 \n",
            "\n",
            "Iteration No: 16 ended. Search finished for the next optimal point.\n",
            "Time taken: 361.1965\n",
            "Function value obtained: 2.1355\n",
            "Current minimum: 2.1355\n",
            "Iteration No: 17 started. Searching for the next optimal point.\n",
            "[0.3, 10, 1, 1.0, 0.1, 15, 100]\n",
            "2.4727568234018875 2.4986250680799884 \n",
            "\n",
            "Iteration No: 17 ended. Search finished for the next optimal point.\n",
            "Time taken: 15.5203\n",
            "Function value obtained: 2.4986\n",
            "Current minimum: 2.1355\n",
            "Iteration No: 18 started. Searching for the next optimal point.\n",
            "[0.016092476163978214, 2000, 1, 0.05, 0.42814069569236046, 15, 559]\n",
            "2.023029666287753 2.199631274351801 \n",
            "\n",
            "Iteration No: 18 ended. Search finished for the next optimal point.\n",
            "Time taken: 554.1573\n",
            "Function value obtained: 2.1996\n",
            "Current minimum: 2.1355\n",
            "Iteration No: 19 started. Searching for the next optimal point.\n",
            "[0.03722284049350259, 2000, 98, 0.05, 0.33245217180259407, 15, 579]\n",
            "2.155990093630139 2.1852428492075373 \n",
            "\n",
            "Iteration No: 19 ended. Search finished for the next optimal point.\n",
            "Time taken: 274.3417\n",
            "Function value obtained: 2.1852\n",
            "Current minimum: 2.1355\n",
            "Iteration No: 20 started. Searching for the next optimal point.\n",
            "[0.030961994861032457, 57, 362, 1.0, 0.10363023433457708, 2, 619]\n",
            "2.732986394945987 2.7686759811285873 \n",
            "\n",
            "Iteration No: 20 ended. Search finished for the next optimal point.\n",
            "Time taken: 52.2016\n",
            "Function value obtained: 2.7687\n",
            "Current minimum: 2.1355\n",
            "Iteration No: 21 started. Searching for the next optimal point.\n",
            "[0.1459673226320852, 1816, 1, 0.05, 0.8466848291985826, 15, 124]\n",
            "2.5633747264040165 2.8208839422610934 \n",
            "\n",
            "Iteration No: 21 ended. Search finished for the next optimal point.\n",
            "Time taken: 96.9932\n",
            "Function value obtained: 2.8209\n",
            "Current minimum: 2.1355\n",
            "Iteration No: 22 started. Searching for the next optimal point.\n",
            "[0.015254528326709763, 2000, 1, 0.558882461392352, 0.36766566937243617, 2, 800]\n",
            "2.385109283949568 2.3980518530085506 \n",
            "\n",
            "Iteration No: 22 ended. Search finished for the next optimal point.\n",
            "Time taken: 80.3900\n",
            "Function value obtained: 2.3981\n",
            "Current minimum: 2.1355\n",
            "Iteration No: 23 started. Searching for the next optimal point.\n",
            "[0.026889486322508357, 10, 1, 0.05, 0.2667884065560333, 15, 533]\n",
            "2.383841792795068 2.4080738302238642 \n",
            "\n",
            "Iteration No: 23 ended. Search finished for the next optimal point.\n",
            "Time taken: 71.0215\n",
            "Function value obtained: 2.4081\n",
            "Current minimum: 2.1355\n",
            "Iteration No: 24 started. Searching for the next optimal point.\n",
            "[0.09170555331335059, 641, 1, 0.05, 0.1, 15, 379]\n",
            "2.486994798872404 2.590702093137036 \n",
            "\n",
            "Iteration No: 24 ended. Search finished for the next optimal point.\n",
            "Time taken: 153.9424\n",
            "Function value obtained: 2.5907\n",
            "Current minimum: 2.1355\n",
            "Iteration No: 25 started. Searching for the next optimal point.\n",
            "[0.05322239853491852, 10, 143, 0.05, 0.7183644473541222, 15, 420]\n",
            "2.2483374578848556 2.257891945595868 \n",
            "\n",
            "Iteration No: 25 ended. Search finished for the next optimal point.\n",
            "Time taken: 69.7205\n",
            "Function value obtained: 2.2579\n",
            "Current minimum: 2.1355\n",
            "Iteration No: 26 started. Searching for the next optimal point.\n",
            "[0.03682340085516897, 1202, 1, 0.05, 0.46307282003265515, 15, 549]\n",
            "2.1058869895780754 2.3889088613611205 \n",
            "\n",
            "Iteration No: 26 ended. Search finished for the next optimal point.\n",
            "Time taken: 488.0043\n",
            "Function value obtained: 2.3889\n",
            "Current minimum: 2.1355\n",
            "Iteration No: 27 started. Searching for the next optimal point.\n",
            "[0.016467073527484083, 2000, 121, 0.05, 0.6222563349045117, 15, 635]\n",
            "2.1325302329662574 2.150856260170894 \n",
            "\n",
            "Iteration No: 27 ended. Search finished for the next optimal point.\n",
            "Time taken: 307.0145\n",
            "Function value obtained: 2.1509\n",
            "Current minimum: 2.1355\n",
            "Iteration No: 28 started. Searching for the next optimal point.\n",
            "[0.043722084265496126, 2000, 181, 0.12588540535103193, 0.49820902818308943, 15, 583]\n",
            "2.0336442996486728 2.0741697969773023 \n",
            "\n",
            "Iteration No: 28 ended. Search finished for the next optimal point.\n",
            "Time taken: 308.4482\n",
            "Function value obtained: 2.0742\n",
            "Current minimum: 2.0742\n",
            "Iteration No: 29 started. Searching for the next optimal point.\n",
            "[0.04935228999015395, 2000, 236, 0.05249145505420944, 0.9002088575564315, 15, 598]\n",
            "2.0690303173362166 2.0924234564648896 \n",
            "\n",
            "Iteration No: 29 ended. Search finished for the next optimal point.\n",
            "Time taken: 246.0364\n",
            "Function value obtained: 2.0924\n",
            "Current minimum: 2.0742\n",
            "Iteration No: 30 started. Searching for the next optimal point.\n",
            "[0.05914268142144396, 2000, 196, 0.3437547356469801, 0.1, 15, 567]\n",
            "2.3206691903726773 2.3685284249898797 \n",
            "\n",
            "Iteration No: 30 ended. Search finished for the next optimal point.\n",
            "Time taken: 224.4326\n",
            "Function value obtained: 2.3685\n",
            "Current minimum: 2.0742\n",
            "Iteration No: 31 started. Searching for the next optimal point.\n",
            "[0.03655061894470251, 2000, 205, 0.05, 0.6594418703147906, 15, 588]\n",
            "2.1101167283969624 2.1319566201915494 \n",
            "\n",
            "Iteration No: 31 ended. Search finished for the next optimal point.\n",
            "Time taken: 246.6943\n",
            "Function value obtained: 2.1320\n",
            "Current minimum: 2.0742\n",
            "Iteration No: 32 started. Searching for the next optimal point.\n",
            "[0.090112401241125, 2000, 500, 0.05, 1.0, 8, 731]\n",
            "2.1654082926062874 2.1825714395584357 \n",
            "\n",
            "Iteration No: 32 ended. Search finished for the next optimal point.\n",
            "Time taken: 163.9959\n",
            "Function value obtained: 2.1826\n",
            "Current minimum: 2.0742\n",
            "Iteration No: 33 started. Searching for the next optimal point.\n",
            "[0.051881045413570734, 2000, 325, 0.05, 1.0, 2, 553]\n",
            "2.385634595013634 2.3953389899263637 \n",
            "\n",
            "Iteration No: 33 ended. Search finished for the next optimal point.\n",
            "Time taken: 52.4734\n",
            "Function value obtained: 2.3953\n",
            "Current minimum: 2.0742\n",
            "Iteration No: 34 started. Searching for the next optimal point.\n",
            "[0.03764034155244823, 2000, 166, 0.05, 1.0, 15, 621]\n",
            "2.049368492622121 2.0730632173557195 \n",
            "\n",
            "Iteration No: 34 ended. Search finished for the next optimal point.\n",
            "Time taken: 269.4796\n",
            "Function value obtained: 2.0731\n",
            "Current minimum: 2.0731\n",
            "Iteration No: 35 started. Searching for the next optimal point.\n",
            "[0.03988567396359279, 2000, 164, 0.4122826556003961, 0.7804024544844045, 15, 639]\n",
            "1.905018489193786 1.996926254367784 \n",
            "\n",
            "Iteration No: 35 ended. Search finished for the next optimal point.\n",
            "Time taken: 439.6821\n",
            "Function value obtained: 1.9969\n",
            "Current minimum: 1.9969\n",
            "Iteration No: 36 started. Searching for the next optimal point.\n",
            "[0.04497036855520039, 2000, 172, 1.0, 0.802786536517545, 15, 700]\n",
            "1.8181399858080105 1.9783434973463165 \n",
            "\n",
            "Iteration No: 36 ended. Search finished for the next optimal point.\n",
            "Time taken: 453.6151\n",
            "Function value obtained: 1.9783\n",
            "Current minimum: 1.9783\n",
            "Iteration No: 37 started. Searching for the next optimal point.\n",
            "[0.05286279580137495, 2000, 244, 1.0, 0.984380558086795, 13, 800]\n",
            "1.8690300036910195 1.9855096754394936 \n",
            "\n",
            "Iteration No: 37 ended. Search finished for the next optimal point.\n",
            "Time taken: 390.6302\n",
            "Function value obtained: 1.9855\n",
            "Current minimum: 1.9783\n",
            "Iteration No: 38 started. Searching for the next optimal point.\n",
            "[0.3, 2000, 350, 1.0, 0.1, 2, 100]\n",
            "2.5942267115601547 2.6216150345906457 \n",
            "\n",
            "Iteration No: 38 ended. Search finished for the next optimal point.\n",
            "Time taken: 13.4855\n",
            "Function value obtained: 2.6216\n",
            "Current minimum: 1.9783\n",
            "Iteration No: 39 started. Searching for the next optimal point.\n",
            "[0.046690360501789284, 2000, 176, 1.0, 0.8099617845091034, 3, 716]\n",
            "2.1776605981671633 2.194055723180603 \n",
            "\n",
            "Iteration No: 39 ended. Search finished for the next optimal point.\n",
            "Time taken: 87.5265\n",
            "Function value obtained: 2.1941\n",
            "Current minimum: 1.9783\n",
            "Iteration No: 40 started. Searching for the next optimal point.\n",
            "[0.050197595368828514, 2000, 245, 1.0, 1.0, 15, 800]\n",
            "1.8471121718050454 1.9799658223806644 \n",
            "\n",
            "Iteration No: 40 ended. Search finished for the next optimal point.\n",
            "Time taken: 455.6709\n",
            "Function value obtained: 1.9800\n",
            "Current minimum: 1.9783\n",
            "Iteration No: 41 started. Searching for the next optimal point.\n",
            "[0.052363479053512726, 2000, 247, 1.0, 1.0, 15, 800]\n",
            "1.844077734211989 1.9786141895413631 \n",
            "\n",
            "Iteration No: 41 ended. Search finished for the next optimal point.\n",
            "Time taken: 456.4537\n",
            "Function value obtained: 1.9786\n",
            "Current minimum: 1.9783\n",
            "Iteration No: 42 started. Searching for the next optimal point.\n",
            "[0.051169533734061357, 1971, 101, 1.0, 0.9687412284559617, 15, 734]\n",
            "1.7325699018847853 1.975845911605687 \n",
            "\n",
            "Iteration No: 42 ended. Search finished for the next optimal point.\n",
            "Time taken: 505.2931\n",
            "Function value obtained: 1.9758\n",
            "Current minimum: 1.9758\n",
            "Iteration No: 43 started. Searching for the next optimal point.\n",
            "[0.052015934810694914, 1966, 78, 1.0, 0.9903261982558506, 15, 742]\n",
            "1.695465711030207 1.9791738574294109 \n",
            "\n",
            "Iteration No: 43 ended. Search finished for the next optimal point.\n",
            "Time taken: 530.4478\n",
            "Function value obtained: 1.9792\n",
            "Current minimum: 1.9758\n",
            "Iteration No: 44 started. Searching for the next optimal point.\n",
            "[0.04825025009679959, 1947, 37, 1.0, 0.9253064125958224, 15, 722]\n",
            "1.5738213262735878 1.983375061835014 \n",
            "\n",
            "Iteration No: 44 ended. Search finished for the next optimal point.\n",
            "Time taken: 578.7051\n",
            "Function value obtained: 1.9834\n",
            "Current minimum: 1.9758\n",
            "Iteration No: 45 started. Searching for the next optimal point.\n",
            "[0.0472332820517225, 2000, 184, 0.7238410691898834, 0.7945459712915878, 15, 684]\n",
            "1.8469016715208226 1.982876721721972 \n",
            "\n",
            "Iteration No: 45 ended. Search finished for the next optimal point.\n",
            "Time taken: 446.4748\n",
            "Function value obtained: 1.9829\n",
            "Current minimum: 1.9758\n",
            "Iteration No: 46 started. Searching for the next optimal point.\n",
            "[0.041096534638596395, 1904, 116, 0.9953522544983255, 0.7843496497351617, 15, 689]\n",
            "1.7759321493204088 1.9766654242767228 \n",
            "\n",
            "Iteration No: 46 ended. Search finished for the next optimal point.\n",
            "Time taken: 505.0247\n",
            "Function value obtained: 1.9767\n",
            "Current minimum: 1.9758\n",
            "Iteration No: 47 started. Searching for the next optimal point.\n",
            "[0.04229793697995561, 2000, 52, 1.0, 1.0, 15, 730]\n",
            "1.660730651918632 1.9813373812518063 \n",
            "\n",
            "Iteration No: 47 ended. Search finished for the next optimal point.\n",
            "Time taken: 570.5836\n",
            "Function value obtained: 1.9813\n",
            "Current minimum: 1.9758\n",
            "Iteration No: 48 started. Searching for the next optimal point.\n",
            "[0.05022004958019359, 1296, 142, 0.9238089794686543, 0.8207038304565061, 15, 664]\n",
            "1.7981982647173254 1.97814006107394 \n",
            "\n",
            "Iteration No: 48 ended. Search finished for the next optimal point.\n",
            "Time taken: 453.7316\n",
            "Function value obtained: 1.9781\n",
            "Current minimum: 1.9758\n",
            "Iteration No: 49 started. Searching for the next optimal point.\n",
            "[0.04229783196012637, 2000, 144, 0.05, 0.657831895366119, 15, 672]\n",
            "2.063968569384217 2.0939355444789287 \n",
            "\n",
            "Iteration No: 49 ended. Search finished for the next optimal point.\n",
            "Time taken: 309.3144\n",
            "Function value obtained: 2.0939\n",
            "Current minimum: 1.9758\n",
            "Iteration No: 50 started. Searching for the next optimal point.\n",
            "[0.04357969983057871, 2000, 120, 1.0, 0.8940996444546291, 15, 736]\n",
            "1.7694179654874134 1.972776835427569 \n",
            "\n",
            "Iteration No: 50 ended. Search finished for the next optimal point.\n",
            "Time taken: 506.6846\n",
            "Function value obtained: 1.9728\n",
            "Current minimum: 1.9728\n"
          ],
          "name": "stdout"
        }
      ]
    },
    {
      "cell_type": "code",
      "metadata": {
        "id": "BX1QxrZ4KEJn",
        "colab": {
          "base_uri": "https://localhost:8080/"
        },
        "outputId": "db33e27d-db14-4f46-a3a0-1c627a4816ff"
      },
      "source": [
        "resultados_gp.x\n",
        "# [0.14034271283097055, 289, 500, 1.0, 1.0, 15, 70, 53, 723]"
      ],
      "execution_count": 46,
      "outputs": [
        {
          "output_type": "execute_result",
          "data": {
            "text/plain": [
              "[0.04357969983057871, 2000, 120, 1.0, 0.8940996444546291, 15, 736]"
            ]
          },
          "metadata": {},
          "execution_count": 46
        }
      ]
    },
    {
      "cell_type": "code",
      "metadata": {
        "id": "SJqhVDZBKmZk"
      },
      "source": [
        "from skopt.plots import plot_convergence"
      ],
      "execution_count": 47,
      "outputs": []
    },
    {
      "cell_type": "code",
      "metadata": {
        "id": "-jik2eGQKn4F",
        "colab": {
          "base_uri": "https://localhost:8080/",
          "height": 297
        },
        "outputId": "113156f0-dbe6-48ea-d221-67c8415443fe"
      },
      "source": [
        "plot_convergence(resultados_gp)\n",
        "plt.show()"
      ],
      "execution_count": 48,
      "outputs": [
        {
          "output_type": "display_data",
          "data": {
            "image/png": "[encoded data removed]",
            "text/plain": [
              "<Figure size 432x288 with 1 Axes>"
            ]
          },
          "metadata": {
            "needs_background": "light"
          }
        }
      ]
    },
    {
      "cell_type": "code",
      "metadata": {
        "id": "_EaQNSZFK355"
      },
      "source": [
        "def treinar_modelo_final(params):\n",
        "    learning_rate = params[0]\n",
        "    num_leaves = params[1]\n",
        "    min_child_samples = params[2]\n",
        "    subsample = params[3]\n",
        "    colsample_bytree = params[4]\n",
        "    max_depth = int(params[5])\n",
        "    n_estimators = params[6]\n",
        "\n",
        "    print(params)\n",
        "\n",
        "    mdl = LGBMRegressor(learning_rate=learning_rate, num_leaves=num_leaves, min_child_samples=min_child_samples,\n",
        "                        max_depth=max_depth, \n",
        "                        subsample=subsample, colsample_bytree=colsample_bytree, random_state=0, subsample_freq=1, \n",
        "                         n_estimators=n_estimators)\n",
        "    \n",
        "    mdl.fit(df_train[vars], df_train['fare_amount'])\n",
        "    \n",
        "    return mdl"
      ],
      "execution_count": 51,
      "outputs": []
    },
    {
      "cell_type": "code",
      "metadata": {
        "id": "y6TYVZ4ZK6z4",
        "colab": {
          "base_uri": "https://localhost:8080/"
        },
        "outputId": "cb305cc8-a55f-4b26-96cb-da861c1d97a0"
      },
      "source": [
        "model = treinar_modelo_final(resultados_gp.x)"
      ],
      "execution_count": 52,
      "outputs": [
        {
          "output_type": "stream",
          "text": [
            "[0.04357969983057871, 2000, 120, 1.0, 0.8940996444546291, 15, 736]\n"
          ],
          "name": "stdout"
        }
      ]
    },
    {
      "cell_type": "code",
      "metadata": {
        "colab": {
          "base_uri": "https://localhost:8080/"
        },
        "id": "KbZkMXGhatqk",
        "outputId": "3096e634-a8ab-491b-dab5-9847c8c1deed"
      },
      "source": [
        "model"
      ],
      "execution_count": 53,
      "outputs": [
        {
          "output_type": "execute_result",
          "data": {
            "text/plain": [
              "LGBMRegressor(boosting_type='gbdt', class_weight=None,\n",
              "              colsample_bytree=0.8940996444546291, importance_type='split',\n",
              "              learning_rate=0.04357969983057871, max_depth=15,\n",
              "              min_child_samples=120, min_child_weight=0.001, min_split_gain=0.0,\n",
              "              n_estimators=736, n_jobs=-1, num_leaves=2000, objective=None,\n",
              "              random_state=0, reg_alpha=0.0, reg_lambda=0.0, silent=True,\n",
              "              subsample=1.0, subsample_for_bin=200000, subsample_freq=1)"
            ]
          },
          "metadata": {},
          "execution_count": 53
        }
      ]
    },
    {
      "cell_type": "code",
      "metadata": {
        "id": "pWGfg-LILTpl",
        "colab": {
          "base_uri": "https://localhost:8080/"
        },
        "outputId": "575603ab-15cc-4df8-95e7-856ef106fa8e"
      },
      "source": [
        "mean_absolute_error(df_test['fare_amount'], model.predict(df_test[vars]))"
      ],
      "execution_count": 54,
      "outputs": [
        {
          "output_type": "execute_result",
          "data": {
            "text/plain": [
              "1.922034383347082"
            ]
          },
          "metadata": {},
          "execution_count": 54
        }
      ]
    },
    {
      "cell_type": "code",
      "metadata": {
        "colab": {
          "base_uri": "https://localhost:8080/"
        },
        "id": "qtgAR6D1nEAg",
        "outputId": "6f4ce6f3-c555-4cae-f178-4c61e2378ee2"
      },
      "source": [
        "# R^2 utilizando MAE no lugar do MSE\n",
        "\n",
        "1 - mean_absolute_error(df_test['fare_amount'], model.predict(df_test[vars]))/(mean_absolute_error(df_test['fare_amount'], [df_test['fare_amount'].median()]*df_test.shape[0]))"
      ],
      "execution_count": 55,
      "outputs": [
        {
          "output_type": "execute_result",
          "data": {
            "text/plain": [
              "0.7031666551736229"
            ]
          },
          "metadata": {},
          "execution_count": 55
        }
      ]
    },
    {
      "cell_type": "markdown",
      "metadata": {
        "id": "KHuKKAUnfv-x"
      },
      "source": [
        "to dos:\n",
        "\n",
        "- quais hiperparâmetros são mais importantes? modelo com entrada hiperparametros e previsao métrica. refinar o espaço de busca um pouco.\n",
        "\n",
        "- SHAP"
      ]
    },
    {
      "cell_type": "code",
      "metadata": {
        "id": "u-epUk5Pfu0E"
      },
      "source": [
        "import shap\n",
        "\n",
        "shap.initjs()"
      ],
      "execution_count": null,
      "outputs": []
    },
    {
      "cell_type": "code",
      "metadata": {
        "id": "CBn_zD2Tf7A_"
      },
      "source": [
        "explainer = shap.TreeExplainer(model)\n",
        "shap_values = explainer.shap_values(df_train[vars])"
      ],
      "execution_count": null,
      "outputs": []
    },
    {
      "cell_type": "code",
      "metadata": {
        "id": "aDXueoMCf_OK"
      },
      "source": [
        "shap.force_plot(explainer.expected_value[1], shap_values[1][0,:], df_train[vars].iloc[0,:])"
      ],
      "execution_count": null,
      "outputs": []
    }
  ]
}