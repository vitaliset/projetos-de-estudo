{
  "nbformat": 4,
  "nbformat_minor": 0,
  "metadata": {
    "colab": {
      "name": "1_datalab_procurando_erros.ipynb",
      "provenance": [],
      "collapsed_sections": [
        "PGajKrW4Cwlr",
        "p1I-73zEDJmP",
        "0xaxGLfPDjh6"
      ],
      "machine_shape": "hm"
    },
    "kernelspec": {
      "name": "python3",
      "display_name": "Python 3"
    },
    "language_info": {
      "name": "python"
    }
  },
  "cells": [
    {
      "cell_type": "markdown",
      "metadata": {
        "id": "JDD2zDZR9NwA"
      },
      "source": [
        "# New York City Taxi Fare Prediction\n",
        "\n",
        "Este projeto está dividido em 5 diferentes notebooks:\n",
        "\n",
        "- **1 - Procurando erros**: aqui vamos dar uma olhada nos possíveis valores das variáveis, procurando inconsistências e pensando em planos para correções desse problemas.\n",
        "\n",
        "- **2 - Dataset Shift**: a ideia é estudar fenômenos temporais que podem estar ocorrendo e definir estratégias para abordar essa questão.\n",
        "\n",
        "- **3 - Pré-processamento, modelagem e validação**: neste momento vamos ajustar os problemas encontrados anteriormente além de criar novas variáveis relevantes ao contexto. além disso iremos fazer uma otimização de hiperparâmetros, escolhendo uma métrica adequada ao nosso problema.\n",
        "\n",
        "- **Apêndice - Zipcode knn**: Utilizando uma API vamos, a partir da latitude/longitude, encontrar o endereço da localização e ter acesso à algumas informações como o CEP. Essa consulta é operacionalmente custosa e portanto criamos um pequeno modelo para que possamos preencher os valores das localizações que não foram consultadas. \n",
        "\n",
        "- **Apêndice - GMaps**: Aqui, temos apenas um pequeno notebook para plotar os dados de latitude/longitude no Google Maps."
      ]
    },
    {
      "cell_type": "markdown",
      "metadata": {
        "id": "FJsbCOaoAyVO"
      },
      "source": [
        "# 1 - Procurando erros"
      ]
    },
    {
      "cell_type": "markdown",
      "metadata": {
        "id": "KIa6mBoMA7jk"
      },
      "source": [
        "## 1.1 - Baixando e importando dados"
      ]
    },
    {
      "cell_type": "code",
      "metadata": {
        "colab": {
          "base_uri": "https://localhost:8080/"
        },
        "id": "pPmUO-vMEvxX",
        "outputId": "bf8fad53-9a61-4496-b534-8393534bef90"
      },
      "source": [
        "# baixando o dataset para utilizar no ambiente Google Colab\n",
        "!gdown --id 1iwTU12iQhT8kPPMcG9z06OvL1IJdINFv"
      ],
      "execution_count": 1,
      "outputs": [
        {
          "output_type": "stream",
          "text": [
            "Downloading...\n",
            "From: https://drive.google.com/uc?id=1iwTU12iQhT8kPPMcG9z06OvL1IJdINFv\n",
            "To: /content/train.csv.zip\n",
            "1.67GB [00:17, 98.0MB/s]\n"
          ],
          "name": "stdout"
        }
      ]
    },
    {
      "cell_type": "code",
      "metadata": {
        "id": "gIlxBCpmEZtm"
      },
      "source": [
        "import numpy as np\n",
        "import matplotlib.pyplot as plt\n",
        "import pandas as pd\n",
        "\n",
        "from sklearn.model_selection import train_test_split"
      ],
      "execution_count": 2,
      "outputs": []
    },
    {
      "cell_type": "code",
      "metadata": {
        "id": "lLgbIBsZEgpi",
        "colab": {
          "base_uri": "https://localhost:8080/"
        },
        "outputId": "a9b09b45-aeae-4a57-896f-159402e13bf9"
      },
      "source": [
        "df = pd.read_csv('train.csv.zip', compression='zip', nrows=5000000,\n",
        "                   error_bad_lines=False).drop(columns='key')\n",
        "\n",
        "print(df.shape)\n",
        "print(df.columns)"
      ],
      "execution_count": 3,
      "outputs": [
        {
          "output_type": "stream",
          "text": [
            "(5000000, 7)\n",
            "Index(['fare_amount', 'pickup_datetime', 'pickup_longitude', 'pickup_latitude',\n",
            "       'dropoff_longitude', 'dropoff_latitude', 'passenger_count'],\n",
            "      dtype='object')\n"
          ],
          "name": "stdout"
        }
      ]
    },
    {
      "cell_type": "markdown",
      "metadata": {
        "id": "vya0_IekAVuq"
      },
      "source": [
        "Vamos separar o dataset de treino do dataset do teste desde o início para não vazar particularidades."
      ]
    },
    {
      "cell_type": "code",
      "metadata": {
        "id": "_kUyZJK4jcf_"
      },
      "source": [
        "df_train, df_test, _, _ = train_test_split(df, df.index, test_size=0.2, random_state=42)"
      ],
      "execution_count": 4,
      "outputs": []
    },
    {
      "cell_type": "markdown",
      "metadata": {
        "id": "1lxJHdG3BEBi"
      },
      "source": [
        "## 1.2 - Funções auxiliares para procurar erros variável por variável"
      ]
    },
    {
      "cell_type": "code",
      "metadata": {
        "id": "8IbHiutHEtHm"
      },
      "source": [
        "# funções auxiliares para olhar variáveis individualmente\n",
        "\n",
        "def eda(df, variavel):\n",
        "  print('número de linhas', df.shape[0], end='\\n\\n')\n",
        "  print(df[variavel].describe(percentiles = [0.1, 0.5, 0.9])[['min', '10%', '50%', '90%', 'max', 'mean', 'std']], end='\\n\\n')\n",
        "  print('porcentagem de valores missing:', df[variavel].isna().sum()/df.shape[0], end='\\n\\n')\n",
        "  print('porcentagem de valores únicos:', df[variavel].nunique()/df.shape[0], end='\\n\\n')\n",
        "  print('valores mais frequentes:',df[variavel].value_counts().head(10), sep='\\n', end='\\n\\n')\n",
        "\n",
        "def hist(df, variavel, quantile_inf=False, quantile_sup=False, bins=30):\n",
        "  if quantile_inf or quantile_sup:\n",
        "    qi = np.quantile(df[variavel], quantile_inf)\n",
        "    qs = np.quantile(df[variavel], quantile_sup)\n",
        "    plt.hist(df[variavel], range=(qi,qs), bins=bins)\n",
        "  else:\n",
        "    plt.hist(df[variavel], bins=bins)"
      ],
      "execution_count": 5,
      "outputs": []
    },
    {
      "cell_type": "markdown",
      "metadata": {
        "id": "JZX-psOXAfM9"
      },
      "source": [
        "## 1.3 Fare_amount"
      ]
    },
    {
      "cell_type": "code",
      "metadata": {
        "colab": {
          "base_uri": "https://localhost:8080/",
          "height": 741
        },
        "id": "L06103aCOnx2",
        "outputId": "cc0c6503-37ee-476d-b70c-05f5998cb1a5"
      },
      "source": [
        "eda(df_train, \"fare_amount\")\n",
        "hist(df_train, \"fare_amount\", 0.05, 0.95)"
      ],
      "execution_count": 6,
      "outputs": [
        {
          "output_type": "stream",
          "text": [
            "número de linhas 4000000\n",
            "\n",
            "min     -100.000000\n",
            "10%        4.500000\n",
            "50%        8.500000\n",
            "90%       20.500000\n",
            "max     1273.310000\n",
            "mean      11.343988\n",
            "std        9.813994\n",
            "Name: fare_amount, dtype: float64\n",
            "\n",
            "porcentagem de valores missing: 0.0\n",
            "\n",
            "porcentagem de valores únicos: 0.00092175\n",
            "\n",
            "valores mais frequentes:\n",
            "6.5     194485\n",
            "4.5     164295\n",
            "8.5     150134\n",
            "5.3     117051\n",
            "5.7     116998\n",
            "4.9     113309\n",
            "6.1     113303\n",
            "6.9     104456\n",
            "10.5    101504\n",
            "7.3      98100\n",
            "Name: fare_amount, dtype: int64\n",
            "\n"
          ],
          "name": "stdout"
        },
        {
          "output_type": "display_data",
          "data": {
            "image/png": "[encoded data removed]",
            "text/plain": [
              "<Figure size 432x288 with 1 Axes>"
            ]
          },
          "metadata": {
            "needs_background": "light"
          }
        }
      ]
    },
    {
      "cell_type": "markdown",
      "metadata": {
        "id": "E1o00BVOBRRe"
      },
      "source": [
        "- os valores negativos parecem ser algum tipo de reembolso. vou assumir que estão corretos\n",
        "\n",
        "- temos alguns valores muito grandes da target que, no treino, vou clipar para ter um máximo. claro que isso vai depender da aplicação do meu modelo, mas pensando que a viagem é dentro de nova york, dificilmente o valor vai ser muito grande."
      ]
    },
    {
      "cell_type": "code",
      "metadata": {
        "colab": {
          "base_uri": "https://localhost:8080/"
        },
        "id": "rn_Od2dZdHLa",
        "outputId": "37c7e6c3-2da8-4e56-baf6-b93d4684facb"
      },
      "source": [
        "# apena 0.1% da base tem valor acima de:\n",
        "np.quantile(df_train['fare_amount'], 0.999)"
      ],
      "execution_count": 7,
      "outputs": [
        {
          "output_type": "execute_result",
          "data": {
            "text/plain": [
              "80.0"
            ]
          },
          "metadata": {},
          "execution_count": 7
        }
      ]
    },
    {
      "cell_type": "markdown",
      "metadata": {
        "id": "DFOqS_SHBwpZ"
      },
      "source": [
        "## 1.4 Pickup_longitude"
      ]
    },
    {
      "cell_type": "code",
      "metadata": {
        "colab": {
          "base_uri": "https://localhost:8080/",
          "height": 752
        },
        "id": "qACJcAUBGZvf",
        "outputId": "5fa03ad0-7734-4be7-8748-41390020403f"
      },
      "source": [
        "eda(df_train, \"pickup_longitude\")\n",
        "hist(df_train, \"pickup_longitude\", 0.01, 0.98)"
      ],
      "execution_count": 8,
      "outputs": [
        {
          "output_type": "stream",
          "text": [
            "número de linhas 4000000\n",
            "\n",
            "min    -3426.608950\n",
            "10%      -74.002777\n",
            "50%      -73.981807\n",
            "90%      -73.950745\n",
            "max     2857.839645\n",
            "mean     -72.505054\n",
            "std       12.639636\n",
            "Name: pickup_longitude, dtype: float64\n",
            "\n",
            "porcentagem de valores missing: 0.0\n",
            "\n",
            "porcentagem de valores únicos: 0.0406335\n",
            "\n",
            "valores mais frequentes:\n",
            " 0.000000     76333\n",
            "-73.137393     1303\n",
            "-73.982100      323\n",
            "-73.982400      317\n",
            "-73.982037      311\n",
            "-73.982297      309\n",
            "-73.982300      300\n",
            "-73.982200      300\n",
            "-73.982175      297\n",
            "-73.982320      294\n",
            "Name: pickup_longitude, dtype: int64\n",
            "\n"
          ],
          "name": "stdout"
        },
        {
          "output_type": "display_data",
          "data": {
            "image/png": "[encoded data removed]",
            "text/plain": [
              "<Figure size 432x288 with 1 Axes>"
            ]
          },
          "metadata": {
            "needs_background": "light"
          }
        }
      ]
    },
    {
      "cell_type": "markdown",
      "metadata": {
        "id": "ouyLC4OxB427"
      },
      "source": [
        "- aparentemente deram um fillna(0) nessa coluna\n",
        "\n",
        "- a cidade de nova york está na região com longitude entre -74.3 e -73.5. valores fora disso parecem ser um erro.\n",
        "\n",
        "- vou tentar, nesses valores errados, trocar a latitude com longitude e ver se isso arruma, se isso se manter pretendo substituir adicionar uma flag e substituir com a mediana."
      ]
    },
    {
      "cell_type": "code",
      "metadata": {
        "id": "L5PQSFeLSkZG",
        "colab": {
          "base_uri": "https://localhost:8080/",
          "height": 142
        },
        "outputId": "eed00b4e-10a1-4f55-eb70-2cfa2c089a81"
      },
      "source": [
        "#alguns casos que indicam que pode ter ocorrido uma troca\n",
        "df_train.query('not -74.3<pickup_longitude<-73.5 and pickup_longitude!=0').head(3)"
      ],
      "execution_count": 9,
      "outputs": [
        {
          "output_type": "execute_result",
          "data": {
            "text/html": [
              "<div>\n",
              "<style scoped>\n",
              "    .dataframe tbody tr th:only-of-type {\n",
              "        vertical-align: middle;\n",
              "    }\n",
              "\n",
              "    .dataframe tbody tr th {\n",
              "        vertical-align: top;\n",
              "    }\n",
              "\n",
              "    .dataframe thead th {\n",
              "        text-align: right;\n",
              "    }\n",
              "</style>\n",
              "<table border=\"1\" class=\"dataframe\">\n",
              "  <thead>\n",
              "    <tr style=\"text-align: right;\">\n",
              "      <th></th>\n",
              "      <th>fare_amount</th>\n",
              "      <th>pickup_datetime</th>\n",
              "      <th>pickup_longitude</th>\n",
              "      <th>pickup_latitude</th>\n",
              "      <th>dropoff_longitude</th>\n",
              "      <th>dropoff_latitude</th>\n",
              "      <th>passenger_count</th>\n",
              "    </tr>\n",
              "  </thead>\n",
              "  <tbody>\n",
              "    <tr>\n",
              "      <th>1140214</th>\n",
              "      <td>7.5</td>\n",
              "      <td>2013-05-24 21:46:00 UTC</td>\n",
              "      <td>40.743617</td>\n",
              "      <td>-73.992660</td>\n",
              "      <td>40.728672</td>\n",
              "      <td>-74.000230</td>\n",
              "      <td>2</td>\n",
              "    </tr>\n",
              "    <tr>\n",
              "      <th>1449568</th>\n",
              "      <td>19.0</td>\n",
              "      <td>2013-05-24 07:29:00 UTC</td>\n",
              "      <td>40.762567</td>\n",
              "      <td>-73.959593</td>\n",
              "      <td>40.702862</td>\n",
              "      <td>-74.012937</td>\n",
              "      <td>1</td>\n",
              "    </tr>\n",
              "    <tr>\n",
              "      <th>1892349</th>\n",
              "      <td>9.0</td>\n",
              "      <td>2013-05-24 08:56:00 UTC</td>\n",
              "      <td>40.708937</td>\n",
              "      <td>-74.009040</td>\n",
              "      <td>40.718402</td>\n",
              "      <td>-74.007287</td>\n",
              "      <td>1</td>\n",
              "    </tr>\n",
              "  </tbody>\n",
              "</table>\n",
              "</div>"
            ],
            "text/plain": [
              "         fare_amount  ... passenger_count\n",
              "1140214          7.5  ...               2\n",
              "1449568         19.0  ...               1\n",
              "1892349          9.0  ...               1\n",
              "\n",
              "[3 rows x 7 columns]"
            ]
          },
          "metadata": {},
          "execution_count": 9
        }
      ]
    },
    {
      "cell_type": "markdown",
      "metadata": {
        "id": "nK8_zkAwCWL0"
      },
      "source": [
        "## 1.5 Pickup_latitude"
      ]
    },
    {
      "cell_type": "code",
      "metadata": {
        "colab": {
          "base_uri": "https://localhost:8080/",
          "height": 741
        },
        "id": "Eb-SBONjedVW",
        "outputId": "815fee94-2bb9-4892-f18f-b4e216adcccb"
      },
      "source": [
        "eda(df_train, \"pickup_latitude\")\n",
        "hist(df_train, \"pickup_latitude\", 0.02, 0.999)"
      ],
      "execution_count": 10,
      "outputs": [
        {
          "output_type": "stream",
          "text": [
            "número de linhas 4000000\n",
            "\n",
            "min    -3488.079513\n",
            "10%       40.718272\n",
            "50%       40.752647\n",
            "90%       40.779795\n",
            "max     2977.030610\n",
            "mean      39.918939\n",
            "std        8.878363\n",
            "Name: pickup_latitude, dtype: float64\n",
            "\n",
            "porcentagem de valores missing: 0.0\n",
            "\n",
            "porcentagem de valores únicos: 0.0495835\n",
            "\n",
            "valores mais frequentes:\n",
            "0.000000     76103\n",
            "41.366138     1303\n",
            "40.774057      292\n",
            "40.774100      292\n",
            "40.774072      259\n",
            "40.774067      258\n",
            "40.774087      252\n",
            "40.774102      246\n",
            "40.774077      243\n",
            "40.774082      242\n",
            "Name: pickup_latitude, dtype: int64\n",
            "\n"
          ],
          "name": "stdout"
        },
        {
          "output_type": "display_data",
          "data": {
            "image/png": "[encoded data removed]",
            "text/plain": [
              "<Figure size 432x288 with 1 Axes>"
            ]
          },
          "metadata": {
            "needs_background": "light"
          }
        }
      ]
    },
    {
      "cell_type": "markdown",
      "metadata": {
        "id": "mSUuEmrYCiOD"
      },
      "source": [
        "- aparentemente deram um fillna(0) nessa coluna\n",
        "\n",
        "- a cidade de nova york está na região com latitude entre 40.3 e 41.2. valores fora disso parecem ser um erro.\n",
        "\n",
        "- vou tentar, nesses valores errados, trocar a latitude com longitude e ver se isso arruma, se isso se manter pretendo substituir adicionar uma flag e substituir com a mediana.\n"
      ]
    },
    {
      "cell_type": "markdown",
      "metadata": {
        "id": "PGajKrW4Cwlr"
      },
      "source": [
        "## 1.6 Dropoff_longitude"
      ]
    },
    {
      "cell_type": "code",
      "metadata": {
        "colab": {
          "base_uri": "https://localhost:8080/",
          "height": 0
        },
        "id": "5kfVpVP0edEv",
        "outputId": "1d0f9315-4652-4a9d-c73c-93ad9ea32cfc"
      },
      "source": [
        "eda(df_train, \"dropoff_longitude\")\n",
        "hist(df_train.fillna(0), \"dropoff_longitude\", 0.02, 0.97)"
      ],
      "execution_count": 11,
      "outputs": [
        {
          "output_type": "stream",
          "text": [
            "número de linhas 4000000\n",
            "\n",
            "min    -3412.653087\n",
            "10%      -74.002903\n",
            "50%      -73.980157\n",
            "90%      -73.945522\n",
            "max     3457.622350\n",
            "mean     -72.506863\n",
            "std       12.952544\n",
            "Name: dropoff_longitude, dtype: float64\n",
            "\n",
            "porcentagem de valores missing: 7.25e-06\n",
            "\n",
            "porcentagem de valores únicos: 0.05173425\n",
            "\n",
            "valores mais frequentes:\n",
            " 0.000000     76129\n",
            "-73.137393      988\n",
            "-73.982400      293\n",
            "-73.982200      269\n",
            "-73.982300      252\n",
            "-73.990800      249\n",
            "-73.982100      248\n",
            "-73.981800      244\n",
            "-73.991700      243\n",
            "-73.982297      238\n",
            "Name: dropoff_longitude, dtype: int64\n",
            "\n"
          ],
          "name": "stdout"
        },
        {
          "output_type": "display_data",
          "data": {
            "image/png": "[encoded data removed]",
            "text/plain": [
              "<Figure size 432x288 with 1 Axes>"
            ]
          },
          "metadata": {
            "needs_background": "light"
          }
        }
      ]
    },
    {
      "cell_type": "markdown",
      "metadata": {
        "id": "NAI_KAPMC3w8"
      },
      "source": [
        "aparentemente deram um fillna(0) nessa coluna, mas sobrou alguns poucos missing. vou fillar com 0 já que não parece ter nenhum padrão, como vemos abaixo\n",
        "\n",
        "a cidade de nova york está na região com longitude entre -74.3 e -73.5. valores fora disso parecem ser um erro.\n",
        "\n",
        "vou tentar, nesses valores errados, trocar a latitude com longitude e ver se isso arruma, se isso se manter pretendo substituir adicionar uma flag e substituir com a mediana."
      ]
    },
    {
      "cell_type": "code",
      "metadata": {
        "colab": {
          "base_uri": "https://localhost:8080/",
          "height": 0
        },
        "id": "PpLNda9xkvM6",
        "outputId": "73f0ced2-f70e-4c9f-bbc3-272c6727de1c"
      },
      "source": [
        "df_train[df_train.isna().any(axis=1)]"
      ],
      "execution_count": 12,
      "outputs": [
        {
          "output_type": "execute_result",
          "data": {
            "text/html": [
              "<div>\n",
              "<style scoped>\n",
              "    .dataframe tbody tr th:only-of-type {\n",
              "        vertical-align: middle;\n",
              "    }\n",
              "\n",
              "    .dataframe tbody tr th {\n",
              "        vertical-align: top;\n",
              "    }\n",
              "\n",
              "    .dataframe thead th {\n",
              "        text-align: right;\n",
              "    }\n",
              "</style>\n",
              "<table border=\"1\" class=\"dataframe\">\n",
              "  <thead>\n",
              "    <tr style=\"text-align: right;\">\n",
              "      <th></th>\n",
              "      <th>fare_amount</th>\n",
              "      <th>pickup_datetime</th>\n",
              "      <th>pickup_longitude</th>\n",
              "      <th>pickup_latitude</th>\n",
              "      <th>dropoff_longitude</th>\n",
              "      <th>dropoff_latitude</th>\n",
              "      <th>passenger_count</th>\n",
              "    </tr>\n",
              "  </thead>\n",
              "  <tbody>\n",
              "    <tr>\n",
              "      <th>4835072</th>\n",
              "      <td>37.00</td>\n",
              "      <td>2013-11-05 06:31:08 UTC</td>\n",
              "      <td>-73.989500</td>\n",
              "      <td>40.774898</td>\n",
              "      <td>NaN</td>\n",
              "      <td>NaN</td>\n",
              "      <td>0</td>\n",
              "    </tr>\n",
              "    <tr>\n",
              "      <th>2664981</th>\n",
              "      <td>6.00</td>\n",
              "      <td>2012-12-11 13:44:45 UTC</td>\n",
              "      <td>-73.970775</td>\n",
              "      <td>40.758842</td>\n",
              "      <td>NaN</td>\n",
              "      <td>NaN</td>\n",
              "      <td>0</td>\n",
              "    </tr>\n",
              "    <tr>\n",
              "      <th>580338</th>\n",
              "      <td>21.00</td>\n",
              "      <td>2012-12-11 12:00:53 UTC</td>\n",
              "      <td>-73.974743</td>\n",
              "      <td>40.752057</td>\n",
              "      <td>NaN</td>\n",
              "      <td>NaN</td>\n",
              "      <td>0</td>\n",
              "    </tr>\n",
              "    <tr>\n",
              "      <th>3700567</th>\n",
              "      <td>6.00</td>\n",
              "      <td>2013-11-13 10:53:50 UTC</td>\n",
              "      <td>-73.971869</td>\n",
              "      <td>40.792019</td>\n",
              "      <td>NaN</td>\n",
              "      <td>NaN</td>\n",
              "      <td>0</td>\n",
              "    </tr>\n",
              "    <tr>\n",
              "      <th>4165644</th>\n",
              "      <td>22.20</td>\n",
              "      <td>2012-10-09 18:08:15 UTC</td>\n",
              "      <td>-73.989235</td>\n",
              "      <td>40.773458</td>\n",
              "      <td>NaN</td>\n",
              "      <td>NaN</td>\n",
              "      <td>0</td>\n",
              "    </tr>\n",
              "    <tr>\n",
              "      <th>1521628</th>\n",
              "      <td>28.00</td>\n",
              "      <td>2012-12-11 13:32:14 UTC</td>\n",
              "      <td>-73.952428</td>\n",
              "      <td>40.792340</td>\n",
              "      <td>NaN</td>\n",
              "      <td>NaN</td>\n",
              "      <td>0</td>\n",
              "    </tr>\n",
              "    <tr>\n",
              "      <th>2455721</th>\n",
              "      <td>18.10</td>\n",
              "      <td>2013-12-08 02:27:17 UTC</td>\n",
              "      <td>-74.003022</td>\n",
              "      <td>40.731176</td>\n",
              "      <td>NaN</td>\n",
              "      <td>NaN</td>\n",
              "      <td>0</td>\n",
              "    </tr>\n",
              "    <tr>\n",
              "      <th>524834</th>\n",
              "      <td>14.76</td>\n",
              "      <td>2011-09-25 23:01:12 UTC</td>\n",
              "      <td>-73.985374</td>\n",
              "      <td>40.768518</td>\n",
              "      <td>NaN</td>\n",
              "      <td>NaN</td>\n",
              "      <td>0</td>\n",
              "    </tr>\n",
              "    <tr>\n",
              "      <th>2087156</th>\n",
              "      <td>6.50</td>\n",
              "      <td>2012-12-11 11:25:07 UTC</td>\n",
              "      <td>-73.966860</td>\n",
              "      <td>40.769835</td>\n",
              "      <td>NaN</td>\n",
              "      <td>NaN</td>\n",
              "      <td>0</td>\n",
              "    </tr>\n",
              "    <tr>\n",
              "      <th>4114839</th>\n",
              "      <td>34.75</td>\n",
              "      <td>2012-07-18 13:59:42 UTC</td>\n",
              "      <td>-73.972758</td>\n",
              "      <td>40.752950</td>\n",
              "      <td>NaN</td>\n",
              "      <td>NaN</td>\n",
              "      <td>0</td>\n",
              "    </tr>\n",
              "    <tr>\n",
              "      <th>794694</th>\n",
              "      <td>7.20</td>\n",
              "      <td>2013-11-04 20:07:59 UTC</td>\n",
              "      <td>-73.977048</td>\n",
              "      <td>40.787565</td>\n",
              "      <td>NaN</td>\n",
              "      <td>NaN</td>\n",
              "      <td>0</td>\n",
              "    </tr>\n",
              "    <tr>\n",
              "      <th>4789267</th>\n",
              "      <td>4.50</td>\n",
              "      <td>2012-12-11 13:05:09 UTC</td>\n",
              "      <td>-73.949108</td>\n",
              "      <td>40.781843</td>\n",
              "      <td>NaN</td>\n",
              "      <td>NaN</td>\n",
              "      <td>0</td>\n",
              "    </tr>\n",
              "    <tr>\n",
              "      <th>2794177</th>\n",
              "      <td>24.60</td>\n",
              "      <td>2012-12-11 12:41:09 UTC</td>\n",
              "      <td>-73.971298</td>\n",
              "      <td>40.792487</td>\n",
              "      <td>NaN</td>\n",
              "      <td>NaN</td>\n",
              "      <td>0</td>\n",
              "    </tr>\n",
              "    <tr>\n",
              "      <th>3941824</th>\n",
              "      <td>9.00</td>\n",
              "      <td>2012-12-11 11:49:45 UTC</td>\n",
              "      <td>-73.985938</td>\n",
              "      <td>40.740686</td>\n",
              "      <td>NaN</td>\n",
              "      <td>NaN</td>\n",
              "      <td>0</td>\n",
              "    </tr>\n",
              "    <tr>\n",
              "      <th>3952804</th>\n",
              "      <td>12.00</td>\n",
              "      <td>2013-06-03 19:25:13 UTC</td>\n",
              "      <td>-73.995653</td>\n",
              "      <td>40.762238</td>\n",
              "      <td>NaN</td>\n",
              "      <td>NaN</td>\n",
              "      <td>0</td>\n",
              "    </tr>\n",
              "    <tr>\n",
              "      <th>4854887</th>\n",
              "      <td>8.10</td>\n",
              "      <td>2012-12-11 12:55:27 UTC</td>\n",
              "      <td>-73.991643</td>\n",
              "      <td>40.744500</td>\n",
              "      <td>NaN</td>\n",
              "      <td>NaN</td>\n",
              "      <td>0</td>\n",
              "    </tr>\n",
              "    <tr>\n",
              "      <th>471472</th>\n",
              "      <td>7.80</td>\n",
              "      <td>2012-12-11 12:34:20 UTC</td>\n",
              "      <td>0.000000</td>\n",
              "      <td>0.000000</td>\n",
              "      <td>NaN</td>\n",
              "      <td>NaN</td>\n",
              "      <td>0</td>\n",
              "    </tr>\n",
              "    <tr>\n",
              "      <th>120227</th>\n",
              "      <td>12.50</td>\n",
              "      <td>2012-12-11 12:57:00 UTC</td>\n",
              "      <td>-73.992760</td>\n",
              "      <td>40.743098</td>\n",
              "      <td>NaN</td>\n",
              "      <td>NaN</td>\n",
              "      <td>0</td>\n",
              "    </tr>\n",
              "    <tr>\n",
              "      <th>574023</th>\n",
              "      <td>10.20</td>\n",
              "      <td>2013-11-04 20:59:15 UTC</td>\n",
              "      <td>-73.998460</td>\n",
              "      <td>40.745406</td>\n",
              "      <td>NaN</td>\n",
              "      <td>NaN</td>\n",
              "      <td>0</td>\n",
              "    </tr>\n",
              "    <tr>\n",
              "      <th>428108</th>\n",
              "      <td>11.80</td>\n",
              "      <td>2011-09-08 09:12:52 UTC</td>\n",
              "      <td>-73.987041</td>\n",
              "      <td>40.751542</td>\n",
              "      <td>NaN</td>\n",
              "      <td>NaN</td>\n",
              "      <td>0</td>\n",
              "    </tr>\n",
              "    <tr>\n",
              "      <th>1220978</th>\n",
              "      <td>29.35</td>\n",
              "      <td>2012-12-11 12:12:15 UTC</td>\n",
              "      <td>-74.015247</td>\n",
              "      <td>40.714325</td>\n",
              "      <td>NaN</td>\n",
              "      <td>NaN</td>\n",
              "      <td>0</td>\n",
              "    </tr>\n",
              "    <tr>\n",
              "      <th>3244924</th>\n",
              "      <td>9.50</td>\n",
              "      <td>2013-10-16 22:31:33 UTC</td>\n",
              "      <td>-73.983787</td>\n",
              "      <td>40.743905</td>\n",
              "      <td>NaN</td>\n",
              "      <td>NaN</td>\n",
              "      <td>0</td>\n",
              "    </tr>\n",
              "    <tr>\n",
              "      <th>245696</th>\n",
              "      <td>86.50</td>\n",
              "      <td>2013-03-21 18:07:07 UTC</td>\n",
              "      <td>-73.991572</td>\n",
              "      <td>40.740591</td>\n",
              "      <td>NaN</td>\n",
              "      <td>NaN</td>\n",
              "      <td>0</td>\n",
              "    </tr>\n",
              "    <tr>\n",
              "      <th>340533</th>\n",
              "      <td>27.50</td>\n",
              "      <td>2012-12-11 12:50:52 UTC</td>\n",
              "      <td>-73.979639</td>\n",
              "      <td>40.784742</td>\n",
              "      <td>NaN</td>\n",
              "      <td>NaN</td>\n",
              "      <td>0</td>\n",
              "    </tr>\n",
              "    <tr>\n",
              "      <th>1476796</th>\n",
              "      <td>80.00</td>\n",
              "      <td>2013-09-05 00:02:14 UTC</td>\n",
              "      <td>-73.990479</td>\n",
              "      <td>40.755656</td>\n",
              "      <td>NaN</td>\n",
              "      <td>NaN</td>\n",
              "      <td>0</td>\n",
              "    </tr>\n",
              "    <tr>\n",
              "      <th>4236846</th>\n",
              "      <td>16.60</td>\n",
              "      <td>2011-11-06 20:54:08 UTC</td>\n",
              "      <td>0.000000</td>\n",
              "      <td>0.000000</td>\n",
              "      <td>NaN</td>\n",
              "      <td>NaN</td>\n",
              "      <td>0</td>\n",
              "    </tr>\n",
              "    <tr>\n",
              "      <th>895400</th>\n",
              "      <td>40.00</td>\n",
              "      <td>2011-06-20 11:34:44 UTC</td>\n",
              "      <td>-73.862900</td>\n",
              "      <td>40.768900</td>\n",
              "      <td>NaN</td>\n",
              "      <td>NaN</td>\n",
              "      <td>0</td>\n",
              "    </tr>\n",
              "    <tr>\n",
              "      <th>2277566</th>\n",
              "      <td>22.10</td>\n",
              "      <td>2012-12-11 12:00:48 UTC</td>\n",
              "      <td>-73.980861</td>\n",
              "      <td>40.761123</td>\n",
              "      <td>NaN</td>\n",
              "      <td>NaN</td>\n",
              "      <td>0</td>\n",
              "    </tr>\n",
              "    <tr>\n",
              "      <th>2267436</th>\n",
              "      <td>8.80</td>\n",
              "      <td>2010-10-12 18:12:40 UTC</td>\n",
              "      <td>-73.991871</td>\n",
              "      <td>40.738448</td>\n",
              "      <td>NaN</td>\n",
              "      <td>NaN</td>\n",
              "      <td>0</td>\n",
              "    </tr>\n",
              "  </tbody>\n",
              "</table>\n",
              "</div>"
            ],
            "text/plain": [
              "         fare_amount  ... passenger_count\n",
              "4835072        37.00  ...               0\n",
              "2664981         6.00  ...               0\n",
              "580338         21.00  ...               0\n",
              "3700567         6.00  ...               0\n",
              "4165644        22.20  ...               0\n",
              "1521628        28.00  ...               0\n",
              "2455721        18.10  ...               0\n",
              "524834         14.76  ...               0\n",
              "2087156         6.50  ...               0\n",
              "4114839        34.75  ...               0\n",
              "794694          7.20  ...               0\n",
              "4789267         4.50  ...               0\n",
              "2794177        24.60  ...               0\n",
              "3941824         9.00  ...               0\n",
              "3952804        12.00  ...               0\n",
              "4854887         8.10  ...               0\n",
              "471472          7.80  ...               0\n",
              "120227         12.50  ...               0\n",
              "574023         10.20  ...               0\n",
              "428108         11.80  ...               0\n",
              "1220978        29.35  ...               0\n",
              "3244924         9.50  ...               0\n",
              "245696         86.50  ...               0\n",
              "340533         27.50  ...               0\n",
              "1476796        80.00  ...               0\n",
              "4236846        16.60  ...               0\n",
              "895400         40.00  ...               0\n",
              "2277566        22.10  ...               0\n",
              "2267436         8.80  ...               0\n",
              "\n",
              "[29 rows x 7 columns]"
            ]
          },
          "metadata": {},
          "execution_count": 12
        }
      ]
    },
    {
      "cell_type": "markdown",
      "metadata": {
        "id": "p1I-73zEDJmP"
      },
      "source": [
        "## 1.7 Dropoff_latitude"
      ]
    },
    {
      "cell_type": "code",
      "metadata": {
        "colab": {
          "base_uri": "https://localhost:8080/",
          "height": 0
        },
        "id": "rRzGz54Tecwu",
        "outputId": "2e40b64a-9ceb-48d3-c46b-2b57d0d52f0e"
      },
      "source": [
        "eda(df_train, \"dropoff_latitude\")\n",
        "hist(df_train.fillna(0), \"dropoff_latitude\", 0.02, 0.97)"
      ],
      "execution_count": 13,
      "outputs": [
        {
          "output_type": "stream",
          "text": [
            "número de linhas 4000000\n",
            "\n",
            "min    -3488.079513\n",
            "10%       40.713350\n",
            "50%       40.753150\n",
            "90%       40.782792\n",
            "max     3305.291182\n",
            "mean      39.912430\n",
            "std        9.451773\n",
            "Name: dropoff_latitude, dtype: float64\n",
            "\n",
            "porcentagem de valores missing: 7.25e-06\n",
            "\n",
            "porcentagem de valores únicos: 0.063574\n",
            "\n",
            "valores mais frequentes:\n",
            "0.000000     75914\n",
            "41.366138      988\n",
            "40.761200      220\n",
            "40.758242      216\n",
            "40.750000      212\n",
            "40.759200      210\n",
            "40.750300      204\n",
            "40.760700      201\n",
            "40.750100      198\n",
            "40.750400      196\n",
            "Name: dropoff_latitude, dtype: int64\n",
            "\n"
          ],
          "name": "stdout"
        },
        {
          "output_type": "display_data",
          "data": {
            "image/png": "[encoded data removed]",
            "text/plain": [
              "<Figure size 432x288 with 1 Axes>"
            ]
          },
          "metadata": {
            "needs_background": "light"
          }
        }
      ]
    },
    {
      "cell_type": "markdown",
      "metadata": {
        "id": "vdbhcX7pDeuS"
      },
      "source": [
        "aparentemente deram um fillna(0) nessa coluna, mas sobrou alguns poucos missing. vou fillar com 0 já que não parece ter nenhum padrão, como vemos abaixo\n",
        "\n",
        "a cidade de nova york está na região com latitude entre 40.3 e 41.2. valores fora disso parecem ser um erro.\n",
        "\n",
        "vou tentar, nesses valores errados, trocar a latitude com longitude e ver se isso arruma, se isso se manter pretendo substituir adicionar uma flag e substituir com a mediana."
      ]
    },
    {
      "cell_type": "markdown",
      "metadata": {
        "id": "0xaxGLfPDjh6"
      },
      "source": [
        "## 1.8 Passenger_count"
      ]
    },
    {
      "cell_type": "code",
      "metadata": {
        "colab": {
          "base_uri": "https://localhost:8080/",
          "height": 0
        },
        "id": "OT_yrLPhg-PZ",
        "outputId": "e355f4c3-cd05-4525-9746-5968bae65164"
      },
      "source": [
        "eda(df_train.fillna(0), \"passenger_count\")\n",
        "hist(df_train.fillna(0), \"passenger_count\", 0, 0.99)"
      ],
      "execution_count": 14,
      "outputs": [
        {
          "output_type": "stream",
          "text": [
            "número de linhas 4000000\n",
            "\n",
            "min       0.00000\n",
            "10%       1.00000\n",
            "50%       1.00000\n",
            "90%       4.00000\n",
            "max     208.00000\n",
            "mean      1.68496\n",
            "std       1.33785\n",
            "Name: passenger_count, dtype: float64\n",
            "\n",
            "porcentagem de valores missing: 0.0\n",
            "\n",
            "porcentagem de valores únicos: 3e-06\n",
            "\n",
            "valores mais frequentes:\n",
            "1      2766737\n",
            "2       590896\n",
            "5       283101\n",
            "3       175422\n",
            "4        85061\n",
            "6        84606\n",
            "0        14165\n",
            "208          7\n",
            "9            2\n",
            "129          1\n",
            "Name: passenger_count, dtype: int64\n",
            "\n"
          ],
          "name": "stdout"
        },
        {
          "output_type": "display_data",
          "data": {
            "image/png": "[encoded data removed]",
            "text/plain": [
              "<Figure size 432x288 with 1 Axes>"
            ]
          },
          "metadata": {
            "needs_background": "light"
          }
        }
      ]
    },
    {
      "cell_type": "markdown",
      "metadata": {
        "id": "5TVkLX9CDztW"
      },
      "source": [
        "- existem modelos de carros com 6 lugares (por exemplo vans) e acho razoável manter tais valores.\n",
        "\n",
        "- aparentemente deram um fillna(0) nessa coluna que vou manter já que esse valor  está fora do domínio e pretendo usar árvores que podem isolar tais exemplos.\n",
        "\n",
        "- mesma ideia para esse 208 que aparece e está fora do range(1,7)."
      ]
    },
    {
      "cell_type": "markdown",
      "metadata": {
        "id": "EwPDNErdEL3X"
      },
      "source": [
        "## 1.9 Considerações finais\n",
        "\n",
        "- na maioria das variáveis, 99% da base está satisfazendo condições desejadas. vamos criar o fluxo de ajuste simplesmente porque esses problemas podem ocorrer \"em produção\" e é razoável ter o fluxo preparado pra esses exemplos.\n",
        "\n",
        "- falta analisar o pickup_datetime, que vou deixar separado para o segundo notebook, em que vamos analisar dinâmicas temporais."
      ]
    }
  ]
}