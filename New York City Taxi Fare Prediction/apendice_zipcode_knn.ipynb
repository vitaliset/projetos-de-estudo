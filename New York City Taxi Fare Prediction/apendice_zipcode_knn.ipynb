{
  "nbformat": 4,
  "nbformat_minor": 0,
  "metadata": {
    "colab": {
      "name": "apendice_datalab_zipcode_knn.ipynb",
      "provenance": [],
      "collapsed_sections": []
    },
    "kernelspec": {
      "name": "python3",
      "display_name": "Python 3"
    },
    "language_info": {
      "name": "python"
    }
  },
  "cells": [
    {
      "cell_type": "code",
      "metadata": {
        "colab": {
          "base_uri": "https://localhost:8080/"
        },
        "id": "ma8pyXngLdx5",
        "outputId": "2a16a265-ed16-4c86-bc6a-0a50a3fd29d5"
      },
      "source": [
        "!gdown --id 1iwTU12iQhT8kPPMcG9z06OvL1IJdINFv"
      ],
      "execution_count": null,
      "outputs": [
        {
          "output_type": "stream",
          "text": [
            "Downloading...\n",
            "From: https://drive.google.com/uc?id=1iwTU12iQhT8kPPMcG9z06OvL1IJdINFv\n",
            "To: /content/train.csv.zip\n",
            "1.67GB [00:16, 98.8MB/s]\n"
          ],
          "name": "stdout"
        }
      ]
    },
    {
      "cell_type": "code",
      "metadata": {
        "id": "uwE-4GuOLXtU"
      },
      "source": [
        "import numpy as np\n",
        "import matplotlib.pyplot as plt\n",
        "import pandas as pd\n",
        "\n",
        "from tqdm import tqdm\n",
        "tqdm.pandas()\n",
        "\n",
        "from sklearn.model_selection import train_test_split\n",
        "\n",
        "from toolz import curry"
      ],
      "execution_count": null,
      "outputs": []
    },
    {
      "cell_type": "code",
      "metadata": {
        "id": "w0t4B_WYLaym"
      },
      "source": [
        "df = pd.read_csv('train.csv.zip', compression='zip', nrows=1000000,\n",
        "                   error_bad_lines=False)#.drop(columns='key')"
      ],
      "execution_count": null,
      "outputs": []
    },
    {
      "cell_type": "code",
      "metadata": {
        "id": "LHd5rhYzLr8f"
      },
      "source": [
        "# ' , '.join(df[['pickup_latitude','pickup_longitude']].iloc[3].apply(lambda x: np.round(x, decimals=6)).astype(str).to_list())\n",
        "\n",
        "df_train, df_test, _, _ = train_test_split(df, df.index, test_size=0.2, random_state=42)"
      ],
      "execution_count": null,
      "outputs": []
    },
    {
      "cell_type": "markdown",
      "metadata": {
        "id": "aM4VX7-JzMmd"
      },
      "source": [
        "Fazendo o pré-processamento mínimo pra ter a base igual."
      ]
    },
    {
      "cell_type": "code",
      "metadata": {
        "id": "GDCr2L8qkOGw"
      },
      "source": [
        "@curry\n",
        "def swap_long_lat(df, coluna, coluna_swap, lim_inf, lim_sup):\n",
        "\n",
        "  df_aux1 = df.query(f\"{lim_inf}<{coluna}<{lim_sup} or {coluna}==0\")\n",
        "  \n",
        "  df_aux2 = df.query(f\"(not ({lim_inf}<{coluna}<{lim_sup})) and {coluna}!=0\")\n",
        "  i = df_aux2.columns.to_list()\n",
        "  a, b = i.index(coluna), i.index(coluna_swap)\n",
        "  i[b], i[a] = i[a], i[b]\n",
        "  df_aux2.columns = i\n",
        "\n",
        "  df_aux3 = df_aux2.query(f\"{lim_inf}<{coluna}<{lim_sup}\")\n",
        "  \n",
        "  df_aux4 = df_aux2.query(f\"not({lim_inf}<{coluna}<{lim_sup})\")\n",
        "  i = df_aux4.columns.to_list()\n",
        "  a, b = i.index(coluna), i.index(coluna_swap)\n",
        "  i[b], i[a] = i[a], i[b]\n",
        "  df_aux4.columns = i\n",
        "\n",
        "  return pd.concat([df_aux1, df_aux3, df_aux4])\n",
        "\n",
        "@curry\n",
        "def flag_erro(df, lim_inf_lat, lim_sup_lat, lim_inf_long, lim_sup_long):\n",
        "  df_aux = df.copy()\n",
        "  query = \" or \".join([f\"(not({lim_inf_long}<{col}<{lim_sup_long}))\" for col in ['pickup_longitude', 'dropoff_longitude']]\n",
        "                      + [f\"(not({lim_inf_lat}<{col}<{lim_sup_lat}))\" for col in ['pickup_latitude', 'dropoff_latitude']])\n",
        "  df_aux['flag_error'] = 0\n",
        "  df_aux.loc[df_train.query(query).index, 'flag_error'] = 1\n",
        "  return df_aux\n",
        "\n",
        "@curry\n",
        "def fill_error(df, coluna, lim_inf, lim_sup):\n",
        "  df_aux = df.copy()\n",
        "  df_aux.loc[df.query(f\"(not({lim_inf}<{coluna}<{lim_sup}))\").index, coluna] = np.nan\n",
        "  return df_aux.fillna(dict(df_train[[coluna]].median()))"
      ],
      "execution_count": null,
      "outputs": []
    },
    {
      "cell_type": "code",
      "metadata": {
        "id": "2Irlxvd5kQ32"
      },
      "source": [
        "def preprocess_latlong(df, lim_inf_lat, lim_sup_lat, lim_inf_long, lim_sup_long):\n",
        "  return (df\n",
        "          .fillna(0)\n",
        "          .pipe(swap_long_lat(coluna='pickup_longitude', coluna_swap='pickup_latitude', lim_inf=lim_inf_long, lim_sup=lim_sup_long))\n",
        "          .pipe(swap_long_lat(coluna='pickup_latitude', coluna_swap='pickup_longitude', lim_inf=lim_inf_lat, lim_sup=lim_sup_lat))\n",
        "          .pipe(swap_long_lat(coluna='dropoff_longitude', coluna_swap='dropoff_latitude', lim_inf=lim_inf_long, lim_sup=lim_sup_long))\n",
        "          .pipe(swap_long_lat(coluna='dropoff_latitude', coluna_swap='dropoff_longitude', lim_inf=lim_inf_lat, lim_sup=lim_sup_lat))\n",
        "          .pipe(flag_erro(lim_inf_lat=lim_inf_lat, lim_sup_lat=lim_sup_lat, lim_inf_long=lim_inf_long, lim_sup_long=lim_sup_long))\n",
        "          .pipe(fill_error(coluna='pickup_longitude', lim_inf=lim_inf_long, lim_sup=lim_sup_long))\n",
        "          .pipe(fill_error(coluna='pickup_latitude', lim_inf=lim_inf_lat, lim_sup=lim_sup_lat))\n",
        "          .pipe(fill_error(coluna='dropoff_longitude', lim_inf=lim_inf_long, lim_sup=lim_sup_long))\n",
        "          .pipe(fill_error(coluna='dropoff_latitude', lim_inf=lim_inf_lat, lim_sup=lim_sup_lat))\n",
        "          )"
      ],
      "execution_count": null,
      "outputs": []
    },
    {
      "cell_type": "code",
      "metadata": {
        "id": "bMip5cRokTcX"
      },
      "source": [
        "lim_inf_lat, lim_sup_lat =     39, 42  #  40.3,  41.2\n",
        "lim_inf_long, lim_sup_long = -76, -72  # -74.3, -73.5\n",
        "\n",
        "df_train = preprocess_latlong(df_train, lim_inf_lat, lim_sup_lat, lim_inf_long, lim_sup_long)"
      ],
      "execution_count": null,
      "outputs": []
    },
    {
      "cell_type": "markdown",
      "metadata": {
        "id": "CSe_aaC5zK6G"
      },
      "source": [
        "## Construindo variável de CEP a partir de uma consulta."
      ]
    },
    {
      "cell_type": "code",
      "metadata": {
        "id": "L7UEbznwJ955"
      },
      "source": [
        "from geopy.geocoders import Nominatim\n",
        "from geopy.extra.rate_limiter import RateLimiter\n",
        "\n",
        "geolocator = Nominatim(user_agent='datalab')\n",
        "geocode = RateLimiter(geolocator.reverse, min_delay_seconds=0.1)"
      ],
      "execution_count": null,
      "outputs": []
    },
    {
      "cell_type": "code",
      "metadata": {
        "id": "3yrUVeV5Nl9j"
      },
      "source": [
        "def fun(row):\n",
        "  return ' , '.join(row[['pickup_latitude','pickup_longitude']].apply(lambda x: np.round(x, decimals=6)).astype(str).to_list())"
      ],
      "execution_count": null,
      "outputs": []
    },
    {
      "cell_type": "code",
      "metadata": {
        "id": "NX74xsGzNw_K"
      },
      "source": [
        "df_aux = df_train.sample(1000).copy()\n",
        "df_aux['api'] = df_aux.apply(fun, axis=1)"
      ],
      "execution_count": null,
      "outputs": []
    },
    {
      "cell_type": "code",
      "metadata": {
        "colab": {
          "base_uri": "https://localhost:8080/"
        },
        "id": "Vedxp4E1zxfP",
        "outputId": "a8a8ef48-6d87-4847-a83a-0128db090983"
      },
      "source": [
        "df_aux['api'].head(3)"
      ],
      "execution_count": null,
      "outputs": [
        {
          "output_type": "execute_result",
          "data": {
            "text/plain": [
              "379876    40.717063 , -74.012197\n",
              "619528      40.7677 , -73.966187\n",
              "189652     40.74982 , -73.983218\n",
              "Name: api, dtype: object"
            ]
          },
          "metadata": {},
          "execution_count": 12
        }
      ]
    },
    {
      "cell_type": "code",
      "metadata": {
        "id": "8MjjsCDXOkug"
      },
      "source": [
        "def try_except(loc, info):\n",
        "  try:\n",
        "    return loc['address'][info]\n",
        "  except:\n",
        "    return \"NaN\"\n",
        "\n",
        "def geolocar(x):\n",
        "  infos = ['suburb', 'postcode']\n",
        "  if x['pickup_latitude'] != 0 and x['pickup_longitude'] != 0 :\n",
        "    loc = geocode(x['api']).raw\n",
        "    return [try_except(loc, info) for info in infos]\n",
        "  else:\n",
        "    return ['NaN' for info in infos]"
      ],
      "execution_count": null,
      "outputs": []
    },
    {
      "cell_type": "markdown",
      "metadata": {
        "id": "z2jyQx0dUxgw"
      },
      "source": [
        "Aplicando a consulta de fato."
      ]
    },
    {
      "cell_type": "code",
      "metadata": {
        "colab": {
          "base_uri": "https://localhost:8080/"
        },
        "id": "nnNRjnJeOxVv",
        "outputId": "3a86e3b3-bb99-4418-eea9-faffd66efb07"
      },
      "source": [
        "# %%time\n",
        "df_aux['response_api'] = df_aux.progress_apply(geolocar, axis=1)"
      ],
      "execution_count": null,
      "outputs": [
        {
          "output_type": "stream",
          "text": [
            "100%|██████████| 1000/1000 [16:07<00:00,  1.03it/s]\n"
          ],
          "name": "stderr"
        }
      ]
    },
    {
      "cell_type": "code",
      "metadata": {
        "id": "lMqdhlu3bXzJ"
      },
      "source": [
        "df_aux['suburb'] = df_aux.apply(lambda x: x['response_api'][0], axis=1)\n",
        "df_aux['postcode'] = df_aux.apply(lambda x: x['response_api'][1][:5], axis=1)"
      ],
      "execution_count": null,
      "outputs": []
    },
    {
      "cell_type": "markdown",
      "metadata": {
        "id": "L3uty0iw0GWd"
      },
      "source": [
        "Filtrando apenas para o CEPs que aparecem pelo menos 2% das vezes."
      ]
    },
    {
      "cell_type": "code",
      "metadata": {
        "id": "wuYyenI_pquy"
      },
      "source": [
        "counts = df_aux.postcode.value_counts()\n",
        "repl = counts[counts < 20].index\n",
        "df_aux['postcode'] = df_aux['postcode'].replace(repl, '10000')"
      ],
      "execution_count": null,
      "outputs": []
    },
    {
      "cell_type": "markdown",
      "metadata": {
        "id": "tiqZyCd00YEJ"
      },
      "source": [
        "## Criando modelo de vizinhos para preencher os missings das consultas"
      ]
    },
    {
      "cell_type": "code",
      "metadata": {
        "id": "3aSQZrl6cERo"
      },
      "source": [
        "from sklearn.neighbors import KNeighborsClassifier\n",
        "from sklearn.model_selection import cross_validate\n",
        "from sklearn.metrics import accuracy_score"
      ],
      "execution_count": null,
      "outputs": []
    },
    {
      "cell_type": "code",
      "metadata": {
        "id": "oy08-RvUPWyL"
      },
      "source": [
        "X = df_aux[['pickup_latitude','pickup_longitude']]\n",
        "y = df_aux['postcode']"
      ],
      "execution_count": null,
      "outputs": []
    },
    {
      "cell_type": "markdown",
      "metadata": {
        "id": "vg7BP3Bm0iV_"
      },
      "source": [
        "Métrica específica levando em conta a distância no globo."
      ]
    },
    {
      "cell_type": "code",
      "metadata": {
        "id": "ArcgQCJOvwKJ"
      },
      "source": [
        "from geopy.distance import distance\n",
        "\n",
        "def geodesic_distance(X1,X2):\n",
        "  return distance((X1[0],X1[1]),(X2[0],X2[1])).km"
      ],
      "execution_count": null,
      "outputs": []
    },
    {
      "cell_type": "code",
      "metadata": {
        "colab": {
          "base_uri": "https://localhost:8080/"
        },
        "id": "OoppFVWbwbJE",
        "outputId": "02db3e4c-3104-4366-c9e5-0834dad95461"
      },
      "source": [
        "kkn = KNeighborsClassifier(n_neighbors=1, metric=geodesic_distance)\n",
        "kkn.fit(X.head(900), y.head(900))"
      ],
      "execution_count": null,
      "outputs": [
        {
          "output_type": "execute_result",
          "data": {
            "text/plain": [
              "KNeighborsClassifier(algorithm='auto', leaf_size=30,\n",
              "                     metric=<function geodesic_distance at 0x7f16d5382170>,\n",
              "                     metric_params=None, n_jobs=None, n_neighbors=1, p=2,\n",
              "                     weights='uniform')"
            ]
          },
          "metadata": {},
          "execution_count": 20
        }
      ]
    },
    {
      "cell_type": "code",
      "metadata": {
        "colab": {
          "base_uri": "https://localhost:8080/"
        },
        "id": "5l_hKo9sxwBs",
        "outputId": "1e4adf49-ff88-4d8e-99ec-c9829ff5ff63"
      },
      "source": [
        "%%time\n",
        "accuracy_score(y.tail(100), kkn.predict(X.tail(100)))"
      ],
      "execution_count": null,
      "outputs": [
        {
          "output_type": "stream",
          "text": [
            "CPU times: user 17.7 s, sys: 564 ms, total: 18.3 s\n",
            "Wall time: 17 s\n"
          ],
          "name": "stdout"
        },
        {
          "output_type": "execute_result",
          "data": {
            "text/plain": [
              "0.74"
            ]
          },
          "metadata": {},
          "execution_count": 21
        }
      ]
    },
    {
      "cell_type": "markdown",
      "metadata": {
        "id": "B-yuUpcM0nX4"
      },
      "source": [
        "Resultados OK! Acertamos cerca de 75% das vezes o CEP exato. Quando erramos, pela própria construção do problema, provavelmente estamos escolhendo um CEP perto então tá tudo bem.\n",
        "\n",
        "O problema é que essa distância demora pra calcular. Por sorte, não temos muitos prejuízos em usar a distância euclidiana, como vemos a seguir:"
      ]
    },
    {
      "cell_type": "code",
      "metadata": {
        "colab": {
          "base_uri": "https://localhost:8080/",
          "height": 221
        },
        "id": "PLfEm4zCrpob",
        "outputId": "f5c3db88-13d8-4e50-dae6-c486ecb7fa2a"
      },
      "source": [
        "cv_results = cross_validate(KNeighborsClassifier(n_neighbors=1), X, y, cv=5)\n",
        "\n",
        "print(cv_results['test_score'].mean())\n",
        "pd.DataFrame(cv_results)"
      ],
      "execution_count": null,
      "outputs": [
        {
          "output_type": "stream",
          "text": [
            "0.7799999999999999\n"
          ],
          "name": "stdout"
        },
        {
          "output_type": "execute_result",
          "data": {
            "text/html": [
              "<div>\n",
              "<style scoped>\n",
              "    .dataframe tbody tr th:only-of-type {\n",
              "        vertical-align: middle;\n",
              "    }\n",
              "\n",
              "    .dataframe tbody tr th {\n",
              "        vertical-align: top;\n",
              "    }\n",
              "\n",
              "    .dataframe thead th {\n",
              "        text-align: right;\n",
              "    }\n",
              "</style>\n",
              "<table border=\"1\" class=\"dataframe\">\n",
              "  <thead>\n",
              "    <tr style=\"text-align: right;\">\n",
              "      <th></th>\n",
              "      <th>fit_time</th>\n",
              "      <th>score_time</th>\n",
              "      <th>test_score</th>\n",
              "    </tr>\n",
              "  </thead>\n",
              "  <tbody>\n",
              "    <tr>\n",
              "      <th>0</th>\n",
              "      <td>0.005822</td>\n",
              "      <td>0.008013</td>\n",
              "      <td>0.780</td>\n",
              "    </tr>\n",
              "    <tr>\n",
              "      <th>1</th>\n",
              "      <td>0.002793</td>\n",
              "      <td>0.007355</td>\n",
              "      <td>0.765</td>\n",
              "    </tr>\n",
              "    <tr>\n",
              "      <th>2</th>\n",
              "      <td>0.002634</td>\n",
              "      <td>0.007269</td>\n",
              "      <td>0.820</td>\n",
              "    </tr>\n",
              "    <tr>\n",
              "      <th>3</th>\n",
              "      <td>0.002756</td>\n",
              "      <td>0.007313</td>\n",
              "      <td>0.775</td>\n",
              "    </tr>\n",
              "    <tr>\n",
              "      <th>4</th>\n",
              "      <td>0.002627</td>\n",
              "      <td>0.007411</td>\n",
              "      <td>0.760</td>\n",
              "    </tr>\n",
              "  </tbody>\n",
              "</table>\n",
              "</div>"
            ],
            "text/plain": [
              "   fit_time  score_time  test_score\n",
              "0  0.005822    0.008013       0.780\n",
              "1  0.002793    0.007355       0.765\n",
              "2  0.002634    0.007269       0.820\n",
              "3  0.002756    0.007313       0.775\n",
              "4  0.002627    0.007411       0.760"
            ]
          },
          "metadata": {},
          "execution_count": 22
        }
      ]
    },
    {
      "cell_type": "markdown",
      "metadata": {
        "id": "jWd9MIlp1Biw"
      },
      "source": [
        "Fluxo para preenchimento dos missings que vamos utilizar no notebook principal."
      ]
    },
    {
      "cell_type": "code",
      "metadata": {
        "id": "T3isjxIw1Aya"
      },
      "source": [
        "# from sklearn.neighbors import KNeighborsClassifier\n",
        "# from geopy.geocoders import Nominatim\n",
        "# from geopy.extra.rate_limiter import RateLimiter\n",
        "\n",
        "# geolocator = Nominatim(user_agent='datalab')\n",
        "\n",
        "class filling_zipcode:\n",
        "  \n",
        "  def __init__(self):\n",
        "    self.geocode = RateLimiter(Nominatim(user_agent='datalab').reverse, min_delay_seconds=0.1)\n",
        "\n",
        "  def fun(self, row):\n",
        "    return ' , '.join(row[['pickup_latitude','pickup_longitude']].apply(lambda x: np.round(x, decimals=6)).astype(str).to_list())\n",
        "\n",
        "  def try_except(self, loc, info):\n",
        "    try:\n",
        "      return loc['address'][info]\n",
        "    except:\n",
        "      return \"NaN\"\n",
        "\n",
        "  def geolocar(self, x):\n",
        "    infos = ['suburb', 'postcode']\n",
        "    if x['pickup_latitude'] != 0 and x['pickup_longitude'] != 0 :\n",
        "      loc = self.geocode(x['api']).raw\n",
        "      return [self.try_except(loc, info) for info in infos]\n",
        "    else:\n",
        "      return ['NaN' for info in infos]\n",
        "\n",
        "\n",
        "  def consulta_fit(self, df, n_consultas=1000, frequencia_min=20):\n",
        "\n",
        "    df_aux = df.head(n_consultas).copy()\n",
        "    df_aux['api'] = df_aux.apply(self.fun, axis=1)\n",
        "\n",
        "    df_aux['response_api'] = df_aux.progress_apply(self.geolocar, axis=1)\n",
        "\n",
        "    df_aux['suburb'] = df_aux.apply(lambda x: x['response_api'][0], axis=1)\n",
        "    df_aux['postcode'] = df_aux.apply(lambda x: x['response_api'][1][:5], axis=1)\n",
        "\n",
        "    counts = df_aux.postcode.value_counts()\n",
        "    repl = counts[counts < frequencia_min].index\n",
        "    df_aux['postcode'] = df_aux['postcode'].replace(repl, '10000')\n",
        "\n",
        "    X = df_aux[['pickup_latitude','pickup_longitude']]\n",
        "    y = df_aux['postcode']\n",
        "\n",
        "    self.knn = KNeighborsClassifier(n_neighbors=1).fit(X, y)\n",
        "\n",
        "  def predict(self, df):\n",
        "    df_aux = df.copy()\n",
        "    df_aux['pickup_zipcode'] = self.knn.predict(df_aux[['pickup_latitude','pickup_longitude']])\n",
        "    df_aux['dropoff_zipcode'] = self.knn.predict(df_aux[['dropoff_latitude','dropoff_longitude']])\n",
        "    return df_aux"
      ],
      "execution_count": null,
      "outputs": []
    },
    {
      "cell_type": "code",
      "metadata": {
        "id": "bqnjag1L386F"
      },
      "source": [
        "preenchedor = filling_zipcode()"
      ],
      "execution_count": null,
      "outputs": []
    },
    {
      "cell_type": "code",
      "metadata": {
        "colab": {
          "base_uri": "https://localhost:8080/"
        },
        "id": "4p-Qiav3398J",
        "outputId": "53d610bd-d954-4254-bb55-a61ec8dc51bf"
      },
      "source": [
        "%%time\n",
        "preenchedor.consulta_fit(df_train, 10)"
      ],
      "execution_count": null,
      "outputs": [
        {
          "output_type": "stream",
          "text": [
            "100%|██████████| 10/10 [00:09<00:00,  1.05it/s]"
          ],
          "name": "stderr"
        },
        {
          "output_type": "stream",
          "text": [
            "CPU times: user 143 ms, sys: 23.4 ms, total: 167 ms\n",
            "Wall time: 9.52 s\n"
          ],
          "name": "stdout"
        },
        {
          "output_type": "stream",
          "text": [
            "\n"
          ],
          "name": "stderr"
        }
      ]
    },
    {
      "cell_type": "code",
      "metadata": {
        "colab": {
          "base_uri": "https://localhost:8080/",
          "height": 623
        },
        "id": "ZThQBKt04RHi",
        "outputId": "44c99c0b-09cb-4a52-f56e-8ee526764ce9"
      },
      "source": [
        "%%time\n",
        "preenchedor.predict(df_train)"
      ],
      "execution_count": null,
      "outputs": [
        {
          "output_type": "stream",
          "text": [
            "CPU times: user 44.8 s, sys: 771 ms, total: 45.6 s\n",
            "Wall time: 44.7 s\n"
          ],
          "name": "stdout"
        },
        {
          "output_type": "execute_result",
          "data": {
            "text/html": [
              "<div>\n",
              "<style scoped>\n",
              "    .dataframe tbody tr th:only-of-type {\n",
              "        vertical-align: middle;\n",
              "    }\n",
              "\n",
              "    .dataframe tbody tr th {\n",
              "        vertical-align: top;\n",
              "    }\n",
              "\n",
              "    .dataframe thead th {\n",
              "        text-align: right;\n",
              "    }\n",
              "</style>\n",
              "<table border=\"1\" class=\"dataframe\">\n",
              "  <thead>\n",
              "    <tr style=\"text-align: right;\">\n",
              "      <th></th>\n",
              "      <th>key</th>\n",
              "      <th>fare_amount</th>\n",
              "      <th>pickup_datetime</th>\n",
              "      <th>pickup_longitude</th>\n",
              "      <th>pickup_latitude</th>\n",
              "      <th>dropoff_longitude</th>\n",
              "      <th>dropoff_latitude</th>\n",
              "      <th>passenger_count</th>\n",
              "      <th>flag_error</th>\n",
              "      <th>pickup_zipcode</th>\n",
              "      <th>dropoff_zipcode</th>\n",
              "    </tr>\n",
              "  </thead>\n",
              "  <tbody>\n",
              "    <tr>\n",
              "      <th>566853</th>\n",
              "      <td>2010-11-06 14:32:00.000000216</td>\n",
              "      <td>4.9</td>\n",
              "      <td>2010-11-06 14:32:00 UTC</td>\n",
              "      <td>-73.984177</td>\n",
              "      <td>40.733533</td>\n",
              "      <td>-73.991077</td>\n",
              "      <td>40.724042</td>\n",
              "      <td>2</td>\n",
              "      <td>0</td>\n",
              "      <td>10000</td>\n",
              "      <td>10000</td>\n",
              "    </tr>\n",
              "    <tr>\n",
              "      <th>382311</th>\n",
              "      <td>2009-07-17 20:54:00.000000158</td>\n",
              "      <td>11.3</td>\n",
              "      <td>2009-07-17 20:54:00 UTC</td>\n",
              "      <td>-73.996732</td>\n",
              "      <td>40.720380</td>\n",
              "      <td>-73.984070</td>\n",
              "      <td>40.760597</td>\n",
              "      <td>1</td>\n",
              "      <td>0</td>\n",
              "      <td>10000</td>\n",
              "      <td>10000</td>\n",
              "    </tr>\n",
              "    <tr>\n",
              "      <th>241519</th>\n",
              "      <td>2013-03-22 12:16:00.000000124</td>\n",
              "      <td>11.0</td>\n",
              "      <td>2013-03-22 12:16:00 UTC</td>\n",
              "      <td>-73.973800</td>\n",
              "      <td>40.753053</td>\n",
              "      <td>-73.986327</td>\n",
              "      <td>40.752865</td>\n",
              "      <td>2</td>\n",
              "      <td>0</td>\n",
              "      <td>10000</td>\n",
              "      <td>10000</td>\n",
              "    </tr>\n",
              "    <tr>\n",
              "      <th>719220</th>\n",
              "      <td>2014-04-07 08:56:49.0000004</td>\n",
              "      <td>5.0</td>\n",
              "      <td>2014-04-07 08:56:49 UTC</td>\n",
              "      <td>-73.957089</td>\n",
              "      <td>40.774476</td>\n",
              "      <td>-73.957199</td>\n",
              "      <td>40.783044</td>\n",
              "      <td>1</td>\n",
              "      <td>0</td>\n",
              "      <td>10000</td>\n",
              "      <td>10000</td>\n",
              "    </tr>\n",
              "    <tr>\n",
              "      <th>905718</th>\n",
              "      <td>2012-11-23 19:44:56.0000002</td>\n",
              "      <td>5.0</td>\n",
              "      <td>2012-11-23 19:44:56 UTC</td>\n",
              "      <td>-73.956669</td>\n",
              "      <td>40.784126</td>\n",
              "      <td>-73.953913</td>\n",
              "      <td>40.778918</td>\n",
              "      <td>3</td>\n",
              "      <td>0</td>\n",
              "      <td>10000</td>\n",
              "      <td>10000</td>\n",
              "    </tr>\n",
              "    <tr>\n",
              "      <th>...</th>\n",
              "      <td>...</td>\n",
              "      <td>...</td>\n",
              "      <td>...</td>\n",
              "      <td>...</td>\n",
              "      <td>...</td>\n",
              "      <td>...</td>\n",
              "      <td>...</td>\n",
              "      <td>...</td>\n",
              "      <td>...</td>\n",
              "      <td>...</td>\n",
              "      <td>...</td>\n",
              "    </tr>\n",
              "    <tr>\n",
              "      <th>70511</th>\n",
              "      <td>2009-10-20 11:51:00.0000009</td>\n",
              "      <td>10.1</td>\n",
              "      <td>2009-10-20 11:51:00 UTC</td>\n",
              "      <td>-73.981783</td>\n",
              "      <td>40.752695</td>\n",
              "      <td>-73.980137</td>\n",
              "      <td>40.753155</td>\n",
              "      <td>2</td>\n",
              "      <td>1</td>\n",
              "      <td>10000</td>\n",
              "      <td>10000</td>\n",
              "    </tr>\n",
              "    <tr>\n",
              "      <th>452282</th>\n",
              "      <td>2011-10-27 09:43:00.00000044</td>\n",
              "      <td>7.7</td>\n",
              "      <td>2011-10-27 09:43:00 UTC</td>\n",
              "      <td>-73.981783</td>\n",
              "      <td>40.752695</td>\n",
              "      <td>-73.980137</td>\n",
              "      <td>40.753155</td>\n",
              "      <td>1</td>\n",
              "      <td>1</td>\n",
              "      <td>10000</td>\n",
              "      <td>10000</td>\n",
              "    </tr>\n",
              "    <tr>\n",
              "      <th>66433</th>\n",
              "      <td>2010-07-28 09:22:00.000000254</td>\n",
              "      <td>7.3</td>\n",
              "      <td>2010-07-28 09:22:00 UTC</td>\n",
              "      <td>-73.981783</td>\n",
              "      <td>40.752695</td>\n",
              "      <td>-73.980137</td>\n",
              "      <td>40.753155</td>\n",
              "      <td>5</td>\n",
              "      <td>1</td>\n",
              "      <td>10000</td>\n",
              "      <td>10000</td>\n",
              "    </tr>\n",
              "    <tr>\n",
              "      <th>675302</th>\n",
              "      <td>2009-12-22 06:19:00.00000026</td>\n",
              "      <td>9.3</td>\n",
              "      <td>2009-12-22 06:19:00 UTC</td>\n",
              "      <td>-73.981783</td>\n",
              "      <td>40.752695</td>\n",
              "      <td>-73.980137</td>\n",
              "      <td>40.753155</td>\n",
              "      <td>5</td>\n",
              "      <td>1</td>\n",
              "      <td>10000</td>\n",
              "      <td>10000</td>\n",
              "    </tr>\n",
              "    <tr>\n",
              "      <th>480754</th>\n",
              "      <td>2012-10-12 22:03:00.000000221</td>\n",
              "      <td>5.5</td>\n",
              "      <td>2012-10-12 22:03:00 UTC</td>\n",
              "      <td>-73.981783</td>\n",
              "      <td>40.752695</td>\n",
              "      <td>-73.980137</td>\n",
              "      <td>40.753155</td>\n",
              "      <td>2</td>\n",
              "      <td>1</td>\n",
              "      <td>10000</td>\n",
              "      <td>10000</td>\n",
              "    </tr>\n",
              "  </tbody>\n",
              "</table>\n",
              "<p>800000 rows × 11 columns</p>\n",
              "</div>"
            ],
            "text/plain": [
              "                                  key  ...  dropoff_zipcode\n",
              "566853  2010-11-06 14:32:00.000000216  ...            10000\n",
              "382311  2009-07-17 20:54:00.000000158  ...            10000\n",
              "241519  2013-03-22 12:16:00.000000124  ...            10000\n",
              "719220    2014-04-07 08:56:49.0000004  ...            10000\n",
              "905718    2012-11-23 19:44:56.0000002  ...            10000\n",
              "...                               ...  ...              ...\n",
              "70511     2009-10-20 11:51:00.0000009  ...            10000\n",
              "452282   2011-10-27 09:43:00.00000044  ...            10000\n",
              "66433   2010-07-28 09:22:00.000000254  ...            10000\n",
              "675302   2009-12-22 06:19:00.00000026  ...            10000\n",
              "480754  2012-10-12 22:03:00.000000221  ...            10000\n",
              "\n",
              "[800000 rows x 11 columns]"
            ]
          },
          "metadata": {},
          "execution_count": 26
        }
      ]
    },
    {
      "cell_type": "markdown",
      "metadata": {
        "id": "ifN-v4pIBgm7"
      },
      "source": [
        "Como a consulta nos dá o endereço:"
      ]
    },
    {
      "cell_type": "code",
      "metadata": {
        "id": "gYnZj65WLAfV",
        "colab": {
          "base_uri": "https://localhost:8080/"
        },
        "outputId": "fed480df-1f54-4526-d1f2-3f0e04118f41"
      },
      "source": [
        "location = geolocator.reverse(\"40.721319, -73.844311\")\n",
        "location.raw"
      ],
      "execution_count": null,
      "outputs": [
        {
          "output_type": "execute_result",
          "data": {
            "text/plain": [
              "{'address': {'city': 'New York',\n",
              "  'city_district': 'Queens County',\n",
              "  'country': 'United States',\n",
              "  'country_code': 'us',\n",
              "  'postcode': '11375',\n",
              "  'road': 'Queens Boulevard',\n",
              "  'shop': 'The Vitamin Shoppe',\n",
              "  'state': 'New York',\n",
              "  'suburb': 'Queens'},\n",
              " 'boundingbox': ['40.7211907', '40.7212907', '-73.8443553', '-73.8442553'],\n",
              " 'display_name': 'The Vitamin Shoppe, Queens Boulevard, Queens, Queens County, New York, 11375, United States',\n",
              " 'lat': '40.7212407',\n",
              " 'licence': 'Data © OpenStreetMap contributors, ODbL 1.0. https://osm.org/copyright',\n",
              " 'lon': '-73.8443053',\n",
              " 'osm_id': 8572566493,\n",
              " 'osm_type': 'node',\n",
              " 'place_id': 310837130}"
            ]
          },
          "metadata": {},
          "execution_count": 27
        }
      ]
    },
    {
      "cell_type": "code",
      "metadata": {
        "id": "ZAhSQOfYAtWE"
      },
      "source": [
        ""
      ],
      "execution_count": null,
      "outputs": []
    }
  ]
}