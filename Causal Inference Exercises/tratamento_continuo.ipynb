{
 "cells": [
  {
   "cell_type": "code",
   "execution_count": 1,
   "id": "18d5b93e-97e4-4efa-b7c7-06a7f576d99b",
   "metadata": {},
   "outputs": [],
   "source": [
    "import pandas as pd\n",
    "import numpy as np\n",
    "import matplotlib.pyplot as plt\n",
    "\n",
    "from toolz import curry\n",
    "import sys\n",
    "\n",
    "sys.path.append(\"..\")\n",
    "pd.set_option(\"display.max_columns\", 500)"
   ]
  },
  {
   "cell_type": "markdown",
   "id": "0efdf0fe-95e9-4448-a70f-bdc850c432b6",
   "metadata": {},
   "source": [
    "## Processamento da base para cada linha de gêmeos virar duas (uma para cada gêmeo)"
   ]
  },
  {
   "cell_type": "code",
   "execution_count": 2,
   "id": "4481cc58-0458-46d7-b477-e7ad57c584d7",
   "metadata": {},
   "outputs": [],
   "source": [
    "df_X = pd.read_csv(\"twin_pairs_X_3years_samesex.csv\").drop(\n",
    "    columns=[\"Unnamed: 0.1\", \"Unnamed: 0\", \"infant_id_0\", \"infant_id_1\"]\n",
    ")\n",
    "df_T = pd.read_csv(\"twin_pairs_T_3years_samesex.csv\").drop(columns=[\"Unnamed: 0\"])\n",
    "df_Y = pd.read_csv(\"twin_pairs_Y_3years_samesex.csv\").drop(columns=[\"Unnamed: 0\"])\n",
    "\n",
    "df = pd.concat([df_X, df_T, df_Y], axis=1)"
   ]
  },
  {
   "cell_type": "code",
   "execution_count": 3,
   "id": "d362c0be-50a2-4807-bb84-3bc1d017fd28",
   "metadata": {},
   "outputs": [],
   "source": [
    "cols_with_index = list(\n",
    "    map(lambda col: col.split(\"_\")[0], filter(lambda col: \"_0\" in col, df.columns))\n",
    ")\n",
    "cols_without_index = list(\n",
    "    filter(\n",
    "        lambda col: not any(col.startswith(stub_name) for stub_name in cols_with_index),\n",
    "        df.columns,\n",
    "    )\n",
    ")"
   ]
  },
  {
   "cell_type": "markdown",
   "id": "64bdf950-f8d6-4226-9cc2-aab7375b6fd5",
   "metadata": {},
   "source": [
    "Basicamente tô dando um filtro em cada um e concatenando."
   ]
  },
  {
   "cell_type": "code",
   "execution_count": 4,
   "id": "22483354-d931-411e-9dc3-c34ce3643db2",
   "metadata": {},
   "outputs": [],
   "source": [
    "@curry\n",
    "def return_i_df(i, cols_with_index, cols_without_index, df):\n",
    "    df_i = (\n",
    "        df.filter([col + f\"_{i}\" for col in cols_with_index] + cols_without_index)\n",
    "        .copy()\n",
    "        .rename(columns=lambda col: col.replace(f\"_{i}\", \"\"))\n",
    "        .assign(T=i)\n",
    "    )\n",
    "    return df_i\n",
    "\n",
    "\n",
    "return_i = return_i_df(\n",
    "    cols_with_index=cols_with_index, cols_without_index=cols_without_index, df=df\n",
    ")\n",
    "\n",
    "df_final = pd.concat([return_i(i=i) for i in range(2)]).sample(\n",
    "    frac=1, replace=False, random_state=42\n",
    ")"
   ]
  },
  {
   "cell_type": "code",
   "execution_count": 5,
   "id": "9606014d-4cc8-4dad-9472-2aba257df1d3",
   "metadata": {},
   "outputs": [
    {
     "data": {
      "text/html": [
       "<div>\n",
       "<style scoped>\n",
       "    .dataframe tbody tr th:only-of-type {\n",
       "        vertical-align: middle;\n",
       "    }\n",
       "\n",
       "    .dataframe tbody tr th {\n",
       "        vertical-align: top;\n",
       "    }\n",
       "\n",
       "    .dataframe thead th {\n",
       "        text-align: right;\n",
       "    }\n",
       "</style>\n",
       "<table border=\"1\" class=\"dataframe\">\n",
       "  <thead>\n",
       "    <tr style=\"text-align: right;\">\n",
       "      <th></th>\n",
       "      <th>bord</th>\n",
       "      <th>dbirwt</th>\n",
       "      <th>mort</th>\n",
       "      <th>pldel</th>\n",
       "      <th>birattnd</th>\n",
       "      <th>brstate</th>\n",
       "      <th>stoccfipb</th>\n",
       "      <th>mager8</th>\n",
       "      <th>ormoth</th>\n",
       "      <th>mrace</th>\n",
       "      <th>meduc6</th>\n",
       "      <th>dmar</th>\n",
       "      <th>mplbir</th>\n",
       "      <th>mpre5</th>\n",
       "      <th>adequacy</th>\n",
       "      <th>orfath</th>\n",
       "      <th>frace</th>\n",
       "      <th>birmon</th>\n",
       "      <th>gestat10</th>\n",
       "      <th>csex</th>\n",
       "      <th>anemia</th>\n",
       "      <th>cardiac</th>\n",
       "      <th>lung</th>\n",
       "      <th>diabetes</th>\n",
       "      <th>herpes</th>\n",
       "      <th>hydra</th>\n",
       "      <th>hemo</th>\n",
       "      <th>chyper</th>\n",
       "      <th>phyper</th>\n",
       "      <th>eclamp</th>\n",
       "      <th>incervix</th>\n",
       "      <th>pre4000</th>\n",
       "      <th>preterm</th>\n",
       "      <th>renal</th>\n",
       "      <th>rh</th>\n",
       "      <th>uterine</th>\n",
       "      <th>othermr</th>\n",
       "      <th>tobacco</th>\n",
       "      <th>alcohol</th>\n",
       "      <th>cigar6</th>\n",
       "      <th>drink5</th>\n",
       "      <th>crace</th>\n",
       "      <th>data_year</th>\n",
       "      <th>nprevistq</th>\n",
       "      <th>dfageq</th>\n",
       "      <th>feduc6</th>\n",
       "      <th>dlivord_min</th>\n",
       "      <th>dtotord_min</th>\n",
       "      <th>brstate_reg</th>\n",
       "      <th>stoccfipb_reg</th>\n",
       "      <th>mplbir_reg</th>\n",
       "      <th>T</th>\n",
       "    </tr>\n",
       "  </thead>\n",
       "  <tbody>\n",
       "    <tr>\n",
       "      <th>15572</th>\n",
       "      <td>2.0</td>\n",
       "      <td>2268.0</td>\n",
       "      <td>0.0</td>\n",
       "      <td>1.0</td>\n",
       "      <td>1.0</td>\n",
       "      <td>34</td>\n",
       "      <td>37</td>\n",
       "      <td>4</td>\n",
       "      <td>0.0</td>\n",
       "      <td>1</td>\n",
       "      <td>3.0</td>\n",
       "      <td>1</td>\n",
       "      <td>34.0</td>\n",
       "      <td>1.0</td>\n",
       "      <td>1.0</td>\n",
       "      <td>0.0</td>\n",
       "      <td>1.0</td>\n",
       "      <td>10</td>\n",
       "      <td>6</td>\n",
       "      <td>0</td>\n",
       "      <td>0.0</td>\n",
       "      <td>0.0</td>\n",
       "      <td>0.0</td>\n",
       "      <td>0.0</td>\n",
       "      <td>0.0</td>\n",
       "      <td>0.0</td>\n",
       "      <td>0.0</td>\n",
       "      <td>0.0</td>\n",
       "      <td>1.0</td>\n",
       "      <td>0.0</td>\n",
       "      <td>0.0</td>\n",
       "      <td>0.0</td>\n",
       "      <td>0.0</td>\n",
       "      <td>0.0</td>\n",
       "      <td>0.0</td>\n",
       "      <td>0.0</td>\n",
       "      <td>0.0</td>\n",
       "      <td>0.0</td>\n",
       "      <td>0.0</td>\n",
       "      <td>0.0</td>\n",
       "      <td>0.0</td>\n",
       "      <td>1</td>\n",
       "      <td>89</td>\n",
       "      <td>3.0</td>\n",
       "      <td>1.0</td>\n",
       "      <td>2.0</td>\n",
       "      <td>2.0</td>\n",
       "      <td>2.0</td>\n",
       "      <td>4</td>\n",
       "      <td>4</td>\n",
       "      <td>4.0</td>\n",
       "      <td>0</td>\n",
       "    </tr>\n",
       "    <tr>\n",
       "      <th>45206</th>\n",
       "      <td>1.0</td>\n",
       "      <td>2543.0</td>\n",
       "      <td>0.0</td>\n",
       "      <td>1.0</td>\n",
       "      <td>1.0</td>\n",
       "      <td>47</td>\n",
       "      <td>51</td>\n",
       "      <td>5</td>\n",
       "      <td>0.0</td>\n",
       "      <td>1</td>\n",
       "      <td>3.0</td>\n",
       "      <td>1</td>\n",
       "      <td>24.0</td>\n",
       "      <td>1.0</td>\n",
       "      <td>NaN</td>\n",
       "      <td>0.0</td>\n",
       "      <td>1.0</td>\n",
       "      <td>1</td>\n",
       "      <td>5</td>\n",
       "      <td>1</td>\n",
       "      <td>0.0</td>\n",
       "      <td>0.0</td>\n",
       "      <td>0.0</td>\n",
       "      <td>0.0</td>\n",
       "      <td>0.0</td>\n",
       "      <td>0.0</td>\n",
       "      <td>0.0</td>\n",
       "      <td>0.0</td>\n",
       "      <td>0.0</td>\n",
       "      <td>0.0</td>\n",
       "      <td>0.0</td>\n",
       "      <td>0.0</td>\n",
       "      <td>0.0</td>\n",
       "      <td>0.0</td>\n",
       "      <td>0.0</td>\n",
       "      <td>1.0</td>\n",
       "      <td>1.0</td>\n",
       "      <td>0.0</td>\n",
       "      <td>0.0</td>\n",
       "      <td>0.0</td>\n",
       "      <td>0.0</td>\n",
       "      <td>1</td>\n",
       "      <td>90</td>\n",
       "      <td>NaN</td>\n",
       "      <td>4.0</td>\n",
       "      <td>4.0</td>\n",
       "      <td>6.0</td>\n",
       "      <td>9.0</td>\n",
       "      <td>4</td>\n",
       "      <td>4</td>\n",
       "      <td>3.0</td>\n",
       "      <td>1</td>\n",
       "    </tr>\n",
       "    <tr>\n",
       "      <th>12066</th>\n",
       "      <td>1.0</td>\n",
       "      <td>1985.0</td>\n",
       "      <td>0.0</td>\n",
       "      <td>1.0</td>\n",
       "      <td>1.0</td>\n",
       "      <td>26</td>\n",
       "      <td>29</td>\n",
       "      <td>4</td>\n",
       "      <td>0.0</td>\n",
       "      <td>2</td>\n",
       "      <td>3.0</td>\n",
       "      <td>0</td>\n",
       "      <td>26.0</td>\n",
       "      <td>2.0</td>\n",
       "      <td>2.0</td>\n",
       "      <td>NaN</td>\n",
       "      <td>NaN</td>\n",
       "      <td>9</td>\n",
       "      <td>4</td>\n",
       "      <td>1</td>\n",
       "      <td>0.0</td>\n",
       "      <td>0.0</td>\n",
       "      <td>0.0</td>\n",
       "      <td>0.0</td>\n",
       "      <td>0.0</td>\n",
       "      <td>0.0</td>\n",
       "      <td>0.0</td>\n",
       "      <td>0.0</td>\n",
       "      <td>0.0</td>\n",
       "      <td>0.0</td>\n",
       "      <td>0.0</td>\n",
       "      <td>0.0</td>\n",
       "      <td>0.0</td>\n",
       "      <td>0.0</td>\n",
       "      <td>0.0</td>\n",
       "      <td>0.0</td>\n",
       "      <td>0.0</td>\n",
       "      <td>0.0</td>\n",
       "      <td>0.0</td>\n",
       "      <td>0.0</td>\n",
       "      <td>0.0</td>\n",
       "      <td>2</td>\n",
       "      <td>89</td>\n",
       "      <td>0.0</td>\n",
       "      <td>NaN</td>\n",
       "      <td>NaN</td>\n",
       "      <td>3.0</td>\n",
       "      <td>3.0</td>\n",
       "      <td>3</td>\n",
       "      <td>3</td>\n",
       "      <td>3.0</td>\n",
       "      <td>0</td>\n",
       "    </tr>\n",
       "  </tbody>\n",
       "</table>\n",
       "</div>"
      ],
      "text/plain": [
       "       bord  dbirwt  mort  pldel  birattnd  brstate  stoccfipb  mager8  \\\n",
       "15572   2.0  2268.0   0.0    1.0       1.0       34         37       4   \n",
       "45206   1.0  2543.0   0.0    1.0       1.0       47         51       5   \n",
       "12066   1.0  1985.0   0.0    1.0       1.0       26         29       4   \n",
       "\n",
       "       ormoth  mrace  meduc6  dmar  mplbir  mpre5  adequacy  orfath  frace  \\\n",
       "15572     0.0      1     3.0     1    34.0    1.0       1.0     0.0    1.0   \n",
       "45206     0.0      1     3.0     1    24.0    1.0       NaN     0.0    1.0   \n",
       "12066     0.0      2     3.0     0    26.0    2.0       2.0     NaN    NaN   \n",
       "\n",
       "       birmon  gestat10  csex  anemia  cardiac  lung  diabetes  herpes  hydra  \\\n",
       "15572      10         6     0     0.0      0.0   0.0       0.0     0.0    0.0   \n",
       "45206       1         5     1     0.0      0.0   0.0       0.0     0.0    0.0   \n",
       "12066       9         4     1     0.0      0.0   0.0       0.0     0.0    0.0   \n",
       "\n",
       "       hemo  chyper  phyper  eclamp  incervix  pre4000  preterm  renal   rh  \\\n",
       "15572   0.0     0.0     1.0     0.0       0.0      0.0      0.0    0.0  0.0   \n",
       "45206   0.0     0.0     0.0     0.0       0.0      0.0      0.0    0.0  0.0   \n",
       "12066   0.0     0.0     0.0     0.0       0.0      0.0      0.0    0.0  0.0   \n",
       "\n",
       "       uterine  othermr  tobacco  alcohol  cigar6  drink5  crace  data_year  \\\n",
       "15572      0.0      0.0      0.0      0.0     0.0     0.0      1         89   \n",
       "45206      1.0      1.0      0.0      0.0     0.0     0.0      1         90   \n",
       "12066      0.0      0.0      0.0      0.0     0.0     0.0      2         89   \n",
       "\n",
       "       nprevistq  dfageq  feduc6  dlivord_min  dtotord_min  brstate_reg  \\\n",
       "15572        3.0     1.0     2.0          2.0          2.0            4   \n",
       "45206        NaN     4.0     4.0          6.0          9.0            4   \n",
       "12066        0.0     NaN     NaN          3.0          3.0            3   \n",
       "\n",
       "       stoccfipb_reg  mplbir_reg  T  \n",
       "15572              4         4.0  0  \n",
       "45206              4         3.0  1  \n",
       "12066              3         3.0  0  "
      ]
     },
     "execution_count": 5,
     "metadata": {},
     "output_type": "execute_result"
    }
   ],
   "source": [
    "df_final.head(3)"
   ]
  },
  {
   "cell_type": "markdown",
   "id": "88fd9974-fcd4-4689-a103-03b54c46c1c9",
   "metadata": {},
   "source": [
    "___"
   ]
  },
  {
   "cell_type": "markdown",
   "id": "b2dec171-8c1a-499a-9de5-285138a1d816",
   "metadata": {},
   "source": [
    "## Grafo Causal\n",
    "\n",
    "Grupos das variáveis que definimos."
   ]
  },
  {
   "cell_type": "code",
   "execution_count": 6,
   "id": "2c6e9595-fe88-4f49-bacd-73af741590fa",
   "metadata": {},
   "outputs": [],
   "source": [
    "risk_cols = [\n",
    "    'alcohol', 'tobacco', 'anemia',\n",
    "    'diabetes', 'eclamp', 'othermr',\n",
    "    'cardiac', 'chyper', 'hemo',\n",
    "    'herpes', 'hydra', 'lung',\n",
    "    'phyper', 'pre4000', 'preterm',\n",
    "    'renal', 'rh', 'uterine',\n",
    "    'incervix'\n",
    "]\n",
    "\n",
    "z2_cols = ['dlivord_min', 'dtotord_min']\n",
    "\n",
    "z3_cols = [\n",
    "    'birmon', 'adequacy', 'cigar6',\n",
    "    'drink5', 'gestat10', 'mager8',\n",
    "    'mpre5', 'nprevistq', 'crace',\n",
    "    'csex', 'dmar'\n",
    "]\n",
    "\n",
    "z4_cols = [\n",
    "    'bord_0', 'bord_1', 'brstate_reg',\n",
    "    'data_year', 'stoccfipb_reg'\n",
    "]\n",
    "\n",
    "z5_cols = ['birattnd', 'pldel', 'feduc6', 'meduc6']\n",
    "\n",
    "z6_cols = [\n",
    "    'brstate', 'dfageq', 'stoccfipb',\n",
    "    'frace', 'mrace', 'orfath',\n",
    "    'ormoth', 'mplbir', 'mplbir_reg'\n",
    "]\n",
    "\n",
    "all_cols = risk_cols + z2_cols + z3_cols + z4_cols + z5_cols + z6_cols + [\"X\", \"Y\"]"
   ]
  },
  {
   "cell_type": "code",
   "execution_count": 7,
   "id": "81159d22-1212-426f-ba23-5857e41dbebf",
   "metadata": {},
   "outputs": [],
   "source": [
    "from pgmpy.models import BayesianNetwork\n",
    "\n",
    "model = BayesianNetwork()\n",
    "model.add_nodes_from(all_cols)\n",
    "model.add_edges_from(\n",
    "    [\n",
    "        (\"risk\", \"X\"),\n",
    "        (\"risk\", \"Y\"),\n",
    "        (\"z3\", \"X\"),\n",
    "        (\"z3\", \"Y\"),\n",
    "        (\"z6\", \"renda\"),\n",
    "        (\"renda\", \"z5\"),\n",
    "        (\"renda\", \"non-observed 1\"),\n",
    "        (\"non-observed 1\", \"X\"),\n",
    "        (\"z5\", \"non-observed 2\"),\n",
    "        (\"non-observed 2\", \"Y\"),\n",
    "        (\"z2\", \"Y\"),\n",
    "    ]\n",
    ")"
   ]
  },
  {
   "cell_type": "markdown",
   "id": "82e6bf72-61f5-4e74-ac61-3f204f8f69bb",
   "metadata": {},
   "source": [
    "Grafo causal:"
   ]
  },
  {
   "cell_type": "code",
   "execution_count": 8,
   "id": "5761c23a-785e-4149-8590-5ce457bbd2d3",
   "metadata": {},
   "outputs": [
    {
     "data": {
      "image/png": "[encoded data removed]",
      "text/plain": [
       "<Figure size 400x400 with 1 Axes>"
      ]
     },
     "metadata": {},
     "output_type": "display_data"
    }
   ],
   "source": [
    "import networkx as nx\n",
    "\n",
    "plt.figure(figsize=(4, 4))\n",
    "\n",
    "nx_graph = nx.DiGraph(model.edges())\n",
    "position_dicts = nx.planar_layout(nx_graph)\n",
    "\n",
    "nx.draw_networkx_edges(\n",
    "    nx_graph,\n",
    "    position_dicts,\n",
    "    edge_color=\"gray\",\n",
    "    node_size=100,\n",
    "    alpha=0.6,\n",
    "    arrowstyle=\"-|>\",\n",
    "    arrowsize=15,\n",
    ")\n",
    "nx.draw_networkx_labels(nx_graph, position_dicts, font_size=7, font_color=\"black\")\n",
    "plt.show()"
   ]
  },
  {
   "cell_type": "markdown",
   "id": "10845f3d-6224-4469-9a6d-9e845b71ca6d",
   "metadata": {},
   "source": [
    "Validando que nosso conjunto satisfaz CB."
   ]
  },
  {
   "cell_type": "code",
   "execution_count": 9,
   "id": "0b93ca01-fcc3-40ff-aec3-986d711744fb",
   "metadata": {},
   "outputs": [],
   "source": [
    "from pgmpy.inference import CausalInference\n",
    "\n",
    "inference = CausalInference(model=model)\n",
    "\n",
    "proposed_backdoor_set = [\"risk\", \"z3\", \"z5\"]\n",
    "\n",
    "assert inference.is_valid_backdoor_adjustment_set(\n",
    "    \"X\", \"Y\", proposed_backdoor_set\n",
    ")"
   ]
  },
  {
   "cell_type": "markdown",
   "id": "7d1eecc5-b4f0-4a50-a4cb-7e061bfc8b62",
   "metadata": {},
   "source": [
    "## Estimação"
   ]
  },
  {
   "cell_type": "code",
   "execution_count": 10,
   "id": "dd5292c3-6df0-4895-a883-d8640364a411",
   "metadata": {},
   "outputs": [],
   "source": [
    "from lightgbm import LGBMClassifier\n",
    "from sklearn.model_selection import GridSearchCV, KFold\n",
    "from sklearn.preprocessing import TargetEncoder\n",
    "from sklearn.compose import ColumnTransformer\n",
    "from sklearn.pipeline import make_pipeline\n",
    "from sklearn.model_selection import train_test_split"
   ]
  },
  {
   "cell_type": "code",
   "execution_count": 11,
   "id": "f0be1e72-879a-4b74-8a5e-55eb503b471d",
   "metadata": {},
   "outputs": [],
   "source": [
    "backdoor_set = risk_cols + z3_cols + z5_cols\n",
    "\n",
    "def return_XZ_y(df, backdoor_set_list):\n",
    "    return df.filter([\"dbirwt\"] + backdoor_set_list), np.array(df.mort)"
   ]
  },
  {
   "cell_type": "code",
   "execution_count": 12,
   "id": "d12c0358-b6c6-4d8f-b390-75ac58e6b2d8",
   "metadata": {},
   "outputs": [],
   "source": [
    "df_train, df_test = train_test_split(\n",
    "    df_final,\n",
    "    test_size=0.2,\n",
    "    random_state=42,\n",
    ")\n",
    "\n",
    "XZ_train, y_train = return_XZ_y(df_train, backdoor_set)\n",
    "XZ_test, y_test = return_XZ_y(df_test, backdoor_set)"
   ]
  },
  {
   "cell_type": "markdown",
   "id": "98adfe7e-a781-444a-924e-aa2efc744f21",
   "metadata": {},
   "source": [
    "Definindo o modelo a partir da fórmula do ajuste."
   ]
  },
  {
   "cell_type": "code",
   "execution_count": 13,
   "id": "be6a461c-8d3b-44bb-80b1-29772b6207bd",
   "metadata": {},
   "outputs": [],
   "source": [
    "model = make_pipeline(\n",
    "    ColumnTransformer(\n",
    "        [\n",
    "            (\n",
    "                \"target\",\n",
    "                TargetEncoder(),\n",
    "                backdoor_set,\n",
    "            )\n",
    "        ],\n",
    "        remainder=\"passthrough\",\n",
    "    ),\n",
    "    GridSearchCV(\n",
    "        estimator=LGBMClassifier(random_state=42),\n",
    "        cv=KFold(shuffle=True, random_state=42),\n",
    "        param_grid={\"learning_rate\": [0.1, 0.05, 0.01]},\n",
    "        scoring=\"roc_auc\",\n",
    "    ),\n",
    ").fit(XZ_train, y_train)"
   ]
  },
  {
   "cell_type": "markdown",
   "id": "4f4dc3cf-1cc4-4b53-a58b-de8bbf511748",
   "metadata": {},
   "source": [
    "Performance."
   ]
  },
  {
   "cell_type": "code",
   "execution_count": 14,
   "id": "522d5fa6-8a56-4bc4-9fdc-e94c129d8063",
   "metadata": {},
   "outputs": [
    {
     "data": {
      "text/plain": [
       "0.9257724218863408"
      ]
     },
     "execution_count": 14,
     "metadata": {},
     "output_type": "execute_result"
    }
   ],
   "source": [
    "from sklearn.metrics import roc_auc_score\n",
    "\n",
    "roc_auc_score(y_test, model.predict_proba(XZ_test)[:, 1])"
   ]
  },
  {
   "cell_type": "markdown",
   "id": "344413c2-7636-42c4-8a26-a50e4657c1cc",
   "metadata": {},
   "source": [
    "Plotando $\\mathbb{E}(Y | \\textrm{do}(X=x))$ em vermelho e $\\mathbb{E}(Y | \\textrm{do}(X=x), Z=z)$ em preto. Isso coincide exatamente com o PDP e o ICE."
   ]
  },
  {
   "cell_type": "code",
   "execution_count": 15,
   "id": "1956c448-9653-4f2d-a4cb-2f212ccda848",
   "metadata": {},
   "outputs": [],
   "source": [
    "from sklearn.inspection import partial_dependence\n",
    "\n",
    "pdp_results = partial_dependence(\n",
    "    model, XZ_test, \"dbirwt\", kind=\"both\", grid_resolution=150, percentiles=(0.01, 0.99)\n",
    ")"
   ]
  },
  {
   "cell_type": "code",
   "execution_count": 16,
   "id": "9e49605e-0993-47a8-a060-7e00e872fddf",
   "metadata": {},
   "outputs": [
    {
     "data": {
      "image/png": "[encoded data removed]",
      "text/plain": [
       "<Figure size 1000x350 with 2 Axes>"
      ]
     },
     "metadata": {},
     "output_type": "display_data"
    }
   ],
   "source": [
    "fig, ax = plt.subplots(figsize=(10, 3.5))\n",
    "\n",
    "min_grid = min(pdp_results[\"grid_values\"][0])\n",
    "max_grid = max(pdp_results[\"grid_values\"][0])\n",
    "twinx = ax.twinx()\n",
    "twinx.hist(\n",
    "    XZ_test.dbirwt,\n",
    "    bins=np.linspace(min_grid, max_grid, 21),\n",
    "    weights=[1 / df_test.shape[0]] * df_test.shape[0],\n",
    "    alpha=0.2,\n",
    "    label=\"histogram of dbirwt\",\n",
    ")\n",
    "twinx.set_ylabel(\"density of dbirwt\")\n",
    "twinx.legend(loc=\"upper left\")\n",
    "\n",
    "n_ice_plots = 50\n",
    "index = np.random.RandomState(42).choice(df_test.shape[0], size=n_ice_plots)\n",
    "for ind_values, label in zip(\n",
    "    pdp_results[\"individual\"][0][index],\n",
    "    (n_ice_plots - 1) * [\"_nolegend_\"] + [\"individual conditional expectation\"],\n",
    "):\n",
    "    ax.plot(pdp_results[\"grid_values\"][0], ind_values, \"k\", alpha=0.2, label=label)\n",
    "\n",
    "ax.plot(\n",
    "    pdp_results[\"grid_values\"][0],\n",
    "    pdp_results[\"average\"][0],\n",
    "    \"r\",\n",
    "    label=\"partial dependence\",\n",
    ")\n",
    "\n",
    "ax.set_xlabel(\"dbirwt\")\n",
    "ax.set_ylabel(\"mort_prob\")\n",
    "ax.legend(loc=\"upper right\")\n",
    "\n",
    "plt.show()"
   ]
  },
  {
   "cell_type": "markdown",
   "id": "c85297ad-1589-4fbb-bd80-8c53bfe37a66",
   "metadata": {},
   "source": [
    "$x$ que minimiza $\\mathbb{E}(Y | \\textrm{do}(X=x))$."
   ]
  },
  {
   "cell_type": "code",
   "execution_count": 17,
   "id": "1d2944d9-ba17-493c-b182-940da2b5240c",
   "metadata": {},
   "outputs": [
    {
     "data": {
      "text/plain": [
       "2569.9664429530203"
      ]
     },
     "execution_count": 17,
     "metadata": {},
     "output_type": "execute_result"
    }
   ],
   "source": [
    "pdp_results[\"grid_values\"][0][np.argmin(pdp_results[\"average\"][0])]"
   ]
  },
  {
   "cell_type": "markdown",
   "id": "1dad25ec-a738-4fa2-a96f-eb185756800b",
   "metadata": {},
   "source": [
    "___"
   ]
  },
  {
   "cell_type": "code",
   "execution_count": 18,
   "id": "3c0ae3ba-a803-479c-8b83-5cfb2c964611",
   "metadata": {},
   "outputs": [],
   "source": [
    "# import lightgbm as lgb\n",
    "# from sklearn.base import BaseEstimator, ClassifierMixin\n",
    "\n",
    "# class LGBMWithLinear(BaseEstimator, ClassifierMixin):\n",
    "#     def __init__(self, num_leaves=31, learning_rate=0.05):\n",
    "#         self.num_leaves = num_leaves\n",
    "#         self.learning_rate = learning_rate\n",
    "    \n",
    "#     def fit(self, X, y):\n",
    "#         self.classes_ = sorted(set(y))\n",
    "#         lgb_train = lgb.Dataset(X, y)\n",
    "        \n",
    "#         params = {\n",
    "#             'boosting_type': 'gbdt',\n",
    "#             'objective': 'binary',\n",
    "#             'metric': 'binary_logloss',\n",
    "#             'num_leaves': self.num_leaves,\n",
    "#             'learning_rate': self.learning_rate,\n",
    "#             'feature_fraction': 0.9,\n",
    "#             'bagging_fraction': 0.8,\n",
    "#             'bagging_freq': 5,\n",
    "#             'verbose': 0,\n",
    "#             'linear_tree': True,\n",
    "#         }\n",
    "        \n",
    "#         self.gbm = lgb.train(params, lgb_train, num_boost_round=300)\n",
    "#         return self\n",
    "    \n",
    "#     def decision_function(self, X):\n",
    "#         return self.gbm.predict(X, num_iteration=self.gbm.best_iteration)"
   ]
  }
 ],
 "metadata": {
  "kernelspec": {
   "display_name": "Python 3 (ipykernel)",
   "language": "python",
   "name": "python3"
  },
  "language_info": {
   "codemirror_mode": {
    "name": "ipython",
    "version": 3
   },
   "file_extension": ".py",
   "mimetype": "text/x-python",
   "name": "python",
   "nbconvert_exporter": "python",
   "pygments_lexer": "ipython3",
   "version": "3.10.9"
  }
 },
 "nbformat": 4,
 "nbformat_minor": 5
}
